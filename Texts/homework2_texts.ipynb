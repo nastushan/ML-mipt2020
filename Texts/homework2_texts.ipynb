{
  "nbformat": 4,
  "nbformat_minor": 0,
  "metadata": {
    "kernelspec": {
      "display_name": "Py3 research env",
      "language": "python",
      "name": "py3_research"
    },
    "language_info": {
      "codemirror_mode": {
        "name": "ipython",
        "version": 3
      },
      "file_extension": ".py",
      "mimetype": "text/x-python",
      "name": "python",
      "nbconvert_exporter": "python",
      "pygments_lexer": "ipython3",
      "version": "3.6.7"
    },
    "colab": {
      "name": "Copy of Copy of homework2_texts.ipynb",
      "provenance": [],
      "collapsed_sections": []
    }
  },
  "cells": [
    {
      "cell_type": "markdown",
      "metadata": {
        "id": "nNy1DEoFlJrp",
        "colab_type": "text"
      },
      "source": [
        "## Homework 2. Simple text processing."
      ]
    },
    {
      "cell_type": "code",
      "metadata": {
        "id": "7oexOBRblJr4",
        "colab_type": "code",
        "colab": {}
      },
      "source": [
        "import numpy as np\n",
        "import matplotlib.pyplot as plt\n",
        "%matplotlib inline"
      ],
      "execution_count": null,
      "outputs": []
    },
    {
      "cell_type": "markdown",
      "metadata": {
        "id": "3rWin2PLlJsP",
        "colab_type": "text"
      },
      "source": [
        "### Prohibited Comment Classification\n",
        "This part of assigment is fully based on YSDA NLP_course homework. Special thanks to YSDA team for making it available on github.\n",
        "\n",
        "![img](https://github.com/yandexdataschool/nlp_course/raw/master/resources/banhammer.jpg)\n",
        "\n",
        "__In this part__ you will build an algorithm that classifies social media comments into normal or toxic.\n",
        "Like in many real-world cases, you only have a small (10^3) dataset of hand-labeled examples to work with. We'll tackle this problem using both classical nlp methods and embedding-based approach."
      ]
    },
    {
      "cell_type": "code",
      "metadata": {
        "id": "RV55_-g1lJsY",
        "colab_type": "code",
        "colab": {
          "base_uri": "https://localhost:8080/",
          "height": 204
        },
        "outputId": "60e84141-c129-4cf3-8ef9-9cf1f38134be"
      },
      "source": [
        "# In colab uncomment this cell\n",
        "! wget https://raw.githubusercontent.com/ml-mipt/ml-mipt/basic/homeworks/homework2_texts/comments.tsv"
      ],
      "execution_count": null,
      "outputs": [
        {
          "output_type": "stream",
          "text": [
            "--2019-11-03 21:06:32--  https://raw.githubusercontent.com/ml-mipt/ml-mipt/basic/homeworks/homework2_texts/comments.tsv\n",
            "Resolving raw.githubusercontent.com (raw.githubusercontent.com)... 151.101.0.133, 151.101.64.133, 151.101.128.133, ...\n",
            "Connecting to raw.githubusercontent.com (raw.githubusercontent.com)|151.101.0.133|:443... connected.\n",
            "HTTP request sent, awaiting response... 200 OK\n",
            "Length: 353358 (345K) [text/plain]\n",
            "Saving to: ‘comments.tsv’\n",
            "\n",
            "\rcomments.tsv          0%[                    ]       0  --.-KB/s               \rcomments.tsv        100%[===================>] 345.08K  --.-KB/s    in 0.02s   \n",
            "\n",
            "2019-11-03 21:06:33 (20.5 MB/s) - ‘comments.tsv’ saved [353358/353358]\n",
            "\n"
          ],
          "name": "stdout"
        }
      ]
    },
    {
      "cell_type": "code",
      "metadata": {
        "id": "w3OPRxZklJtF",
        "colab_type": "code",
        "colab": {
          "base_uri": "https://localhost:8080/",
          "height": 204
        },
        "outputId": "ce3c5720-dfc6-4363-cf97-8ac9873964ef"
      },
      "source": [
        "import pandas as pd\n",
        "data = pd.read_csv(\"comments.tsv\", sep='\\t')\n",
        "\n",
        "texts = data['comment_text'].values\n",
        "target = data['should_ban'].values\n",
        "data[50::200]"
      ],
      "execution_count": null,
      "outputs": [
        {
          "output_type": "execute_result",
          "data": {
            "text/html": [
              "<div>\n",
              "<style scoped>\n",
              "    .dataframe tbody tr th:only-of-type {\n",
              "        vertical-align: middle;\n",
              "    }\n",
              "\n",
              "    .dataframe tbody tr th {\n",
              "        vertical-align: top;\n",
              "    }\n",
              "\n",
              "    .dataframe thead th {\n",
              "        text-align: right;\n",
              "    }\n",
              "</style>\n",
              "<table border=\"1\" class=\"dataframe\">\n",
              "  <thead>\n",
              "    <tr style=\"text-align: right;\">\n",
              "      <th></th>\n",
              "      <th>should_ban</th>\n",
              "      <th>comment_text</th>\n",
              "    </tr>\n",
              "  </thead>\n",
              "  <tbody>\n",
              "    <tr>\n",
              "      <th>50</th>\n",
              "      <td>0</td>\n",
              "      <td>\"Those who're in advantageous positions are th...</td>\n",
              "    </tr>\n",
              "    <tr>\n",
              "      <th>250</th>\n",
              "      <td>1</td>\n",
              "      <td>Fartsalot56 says f**k you motherclucker!!</td>\n",
              "    </tr>\n",
              "    <tr>\n",
              "      <th>450</th>\n",
              "      <td>1</td>\n",
              "      <td>Are you a fool? \\n\\nI am sorry, but you seem t...</td>\n",
              "    </tr>\n",
              "    <tr>\n",
              "      <th>650</th>\n",
              "      <td>1</td>\n",
              "      <td>I AM NOT A VANDAL!!!!!!!!!!!!!!!!!!!!!!!!!!!!!!</td>\n",
              "    </tr>\n",
              "    <tr>\n",
              "      <th>850</th>\n",
              "      <td>0</td>\n",
              "      <td>Citing sources\\n\\nCheck out the Wikipedia:Citi...</td>\n",
              "    </tr>\n",
              "  </tbody>\n",
              "</table>\n",
              "</div>"
            ],
            "text/plain": [
              "     should_ban                                       comment_text\n",
              "50            0  \"Those who're in advantageous positions are th...\n",
              "250           1          Fartsalot56 says f**k you motherclucker!!\n",
              "450           1  Are you a fool? \\n\\nI am sorry, but you seem t...\n",
              "650           1    I AM NOT A VANDAL!!!!!!!!!!!!!!!!!!!!!!!!!!!!!!\n",
              "850           0  Citing sources\\n\\nCheck out the Wikipedia:Citi..."
            ]
          },
          "metadata": {
            "tags": []
          },
          "execution_count": 4
        }
      ]
    },
    {
      "cell_type": "code",
      "metadata": {
        "id": "hCmtJSCplJtX",
        "colab_type": "code",
        "colab": {}
      },
      "source": [
        "from sklearn.model_selection import train_test_split\n",
        "texts_train, texts_test, y_train, y_test = train_test_split(texts, target, test_size=0.5, random_state=42)"
      ],
      "execution_count": null,
      "outputs": []
    },
    {
      "cell_type": "markdown",
      "metadata": {
        "id": "X4v78HVulJuC",
        "colab_type": "text"
      },
      "source": [
        "__Note:__ it is generally a good idea to split data into train/test before anything is done to them.\n",
        "\n",
        "It guards you against possible data leakage in the preprocessing stage. For example, should you decide to select words present in obscene tweets as features, you should only count those words over the training set. Otherwise your algoritm can cheat evaluation."
      ]
    },
    {
      "cell_type": "markdown",
      "metadata": {
        "id": "OCND02qrlJuG",
        "colab_type": "text"
      },
      "source": [
        "### Preprocessing and tokenization\n",
        "\n",
        "Comments contain raw text with punctuation, upper/lowercase letters and even newline symbols.\n",
        "\n",
        "To simplify all further steps, we'll split text into space-separated tokens using one of nltk tokenizers.\n",
        "\n",
        "Generally, library `nltk` [link](https://www.nltk.org) is widely used in NLP. It is not necessary in here, but mentioned to intoduce it to you."
      ]
    },
    {
      "cell_type": "code",
      "metadata": {
        "id": "49x8QmEYlJuK",
        "colab_type": "code",
        "colab": {
          "base_uri": "https://localhost:8080/",
          "height": 51
        },
        "outputId": "18013c42-b7ea-4707-a1c2-9de6a497435f"
      },
      "source": [
        "from nltk.tokenize import TweetTokenizer\n",
        "tokenizer = TweetTokenizer()\n",
        "preprocess = lambda text: ' '.join(tokenizer.tokenize(text.lower()))\n",
        "\n",
        "text = 'How to be a grown-up at work: replace \"I don\\'t want to do that\" with \"Ok, great!\".'\n",
        "print(\"before:\", text,)\n",
        "print(\"after:\", preprocess(text),)"
      ],
      "execution_count": null,
      "outputs": [
        {
          "output_type": "stream",
          "text": [
            "before: How to be a grown-up at work: replace \"I don't want to do that\" with \"Ok, great!\".\n",
            "after: how to be a grown-up at work : replace \" i don't want to do that \" with \" ok , great ! \" .\n"
          ],
          "name": "stdout"
        }
      ]
    },
    {
      "cell_type": "code",
      "metadata": {
        "id": "x4uhfyXUlJub",
        "colab_type": "code",
        "colab": {}
      },
      "source": [
        "# task: preprocess each comment in train and test\n",
        "\n",
        "texts_train = [preprocess(i) for i in texts_train]\n",
        "texts_test = [preprocess(i) for i in texts_test]\n",
        "\n"
      ],
      "execution_count": null,
      "outputs": []
    },
    {
      "cell_type": "code",
      "metadata": {
        "id": "ZVdqOhrQlJvp",
        "colab_type": "code",
        "colab": {}
      },
      "source": [
        "# Small check that everything is done properly\n",
        "assert texts_train[5] ==  'who cares anymore . they attack with impunity .'\n",
        "assert texts_test[89] == 'hey todds ! quick q ? why are you so gay'\n",
        "assert len(texts_test) == len(y_test)"
      ],
      "execution_count": null,
      "outputs": []
    },
    {
      "cell_type": "markdown",
      "metadata": {
        "id": "arX65bZ5lJv8",
        "colab_type": "text"
      },
      "source": [
        "### Solving it: bag of words\n",
        "\n",
        "![img](http://www.novuslight.com/uploads/n/BagofWords.jpg)\n",
        "\n",
        "One traditional approach to such problem is to use bag of words features:\n",
        "1. build a vocabulary of frequent words (use train data only)\n",
        "2. for each training sample, count the number of times a word occurs in it (for each word in vocabulary).\n",
        "3. consider this count a feature for some classifier\n",
        "\n",
        "__Note:__ in practice, you can compute such features using sklearn. __Please don't do that in the current assignment, though.__\n",
        "* `from sklearn.feature_extraction.text import CountVectorizer, TfidfVectorizer`"
      ]
    },
    {
      "cell_type": "code",
      "metadata": {
        "id": "5LVpjuLMlJwB",
        "colab_type": "code",
        "colab": {
          "base_uri": "https://localhost:8080/",
          "height": 105
        },
        "outputId": "15744f1d-ecce-461e-edd9-b3431fe9fd3b"
      },
      "source": [
        "# task: find up to k most frequent tokens in texts_train,\n",
        "# sort them by number of occurences (highest first)\n",
        "import re\n",
        "import numpy as np\n",
        "import nltk\n",
        "from collections import Counter\n",
        "nltk.download('punkt')\n",
        "\n",
        "wordfreq = {}\n",
        "sort = {}\n",
        "\n",
        "for i in texts_train:\n",
        "    #i = re.sub('[^A-Za-z\\s]', '', i).lower()\n",
        "    #tokens = nltk.word_tokenize(i)\n",
        "    tokens = i.split(\" \")\n",
        "    for token in tokens:\n",
        "        if token not in wordfreq.keys():\n",
        "            wordfreq[token] = 1\n",
        "        else:\n",
        "            wordfreq[token] += 1\n",
        "\n",
        "\n",
        "\n",
        "k = min(10000, len(set(' '.join(texts_train).split())))\n",
        "\n",
        "bow_vocabulary = Counter(wordfreq).most_common(k)\n",
        "print(bow_vocabulary)\n",
        "print('example features:', sorted(bow_vocabulary)[::100])"
      ],
      "execution_count": null,
      "outputs": [
        {
          "output_type": "stream",
          "text": [
            "[nltk_data] Downloading package punkt to /root/nltk_data...\n",
            "[nltk_data]   Package punkt is already up-to-date!\n",
            "[('.', 1513), (',', 1389), ('you', 1342), ('the', 1219), ('\"', 1057), ('a', 860), ('to', 823), ('i', 727), ('and', 711), ('!', 703), ('is', 657), ('of', 637), ('=', 612), ('suck', 515), ('that', 416), ('in', 393), ('hitler', 388), ('heil', 385), ('it', 375), ('(', 369), (')', 367), ('offfuck', 360), ('?', 310), ('are', 301), ('not', 281), ('this', 278), ('for', 269), ('be', 248), ('your', 237), ('my', 212), ('on', 207), ('as', 203), ('with', 202), ('do', 190), ('have', 187), ('nigger', 182), ('j.delanoy', 179), ('me', 162), (':', 159), ('dick', 152), ('or', 146), ('was', 144), ('if', 142), ('article', 136), ('at', 134), ('know', 134), ('but', 131), ('because', 131), ('all', 129), ('what', 128), ('page', 128), ('an', 120), ('so', 116), ('talk', 111), ('...', 106), ('by', 104), ('wikipedia', 101), ('one', 100), ('he', 100), ('they', 99), ('can', 99), ('like', 99), ('no', 99), ('from', 97), ('will', 94), ('has', 94), ('would', 85), (\"'\", 81), ('been', 80), ('about', 79), ('there', 79), ('fggt', 79), ('just', 77), (\"don't\", 75), ('any', 73), ('which', 73), ('did', 73), ('2006', 73), ('-', 67), ('time', 66), ('who', 66), ('when', 66), ('july', 63), ('we', 62), ('hist', 62), ('diff', 62), ('்', 62), ('please', 61), ('how', 61), ('people', 59), ('24', 59), ('should', 57), ('see', 56), ('his', 56), ('had', 56), ('|', 55), ('them', 54), ('here', 53), ('up', 53), ('think', 52), ('also', 51), ('other', 51), ('before', 50), ('some', 50), (';', 49), ('then', 49), ('bitch', 48), (\"i'm\", 47), ('am', 47), ('make', 47), ('why', 47), ('out', 46), ('being', 45), ('may', 44), ('user', 44), ('only', 43), ('fuck', 43), ('/', 43), ('more', 42), (\"it's\", 41), ('use', 41), ('articles', 40), ('again', 40), ('does', 39), ('their', 39), ('even', 39), ('now', 39), ('edit', 38), ('good', 37), ('get', 36), ('own', 35), ('shit', 35), ('were', 35), ('her', 35), ('want', 35), ('slap', 35), ('than', 34), ('go', 34), ('two', 34), ('stop', 33), ('him', 33), ('new', 33), ('→', 33), ('since', 33), ('information', 32), ('made', 32), ('sources', 32), ('its', 32), ('very', 32), ('most', 31), ('blocked', 31), (\"you're\", 31), ('help', 31), ('way', 30), ('over', 30), ('right', 30), ('take', 29), ('she', 29), ('&', 29), ('discussion', 29), ('block', 29), ('could', 29), ('such', 29), ('dog', 29), ('many', 28), ('thank', 28), ('too', 28), ('live', 27), ('us', 27), ('where', 26), ('}', 26), ('much', 26), ('things', 26), (\"i've\", 26), ('image', 26), ('into', 26), ('top', 26), ('those', 25), ('these', 25), ('well', 25), ('u', 25), ('{', 25), ('fucking', 25), ('added', 25), ('little', 25), ('sure', 24), ('thanks', 24), ('work', 24), ('•', 24), ('against', 23), ('while', 23), ('real', 23), ('used', 23), ('life', 23), ('..', 23), ('something', 23), ('same', 23), ('name', 23), ('edits', 22), ('others', 22), ('keep', 22), ('editing', 22), ('really', 22), ('pages', 22), ('delete', 22), ('without', 22), ('another', 21), ('s', 21), ('source', 21), ('ass', 21), ('add', 21), ('back', 21), ('find', 21), ('wp', 21), ('off', 21), ('loud', 21), ('seems', 20), ('say', 20), ('agree', 20), ('place', 20), ('every', 19), ('consider', 19), ('read', 19), ('put', 19), ('might', 19), ('going', 19), ('doing', 19), ('content', 19), ('someone', 19), ('ever', 19), ('believe', 19), ('case', 19), ('world', 19), ('first', 19), ('hi', 19), ('wormy', 19), ('saloon', 19), ('personal', 18), ('deleted', 18), ('wiki', 18), ('actually', 18), ('need', 18), ('must', 18), ('making', 18), ('admin', 18), ('great', 18), ('ask', 18), ('said', 18), ('under', 18), ('our', 18), ('anything', 18), ('section', 18), ('mean', 18), ('ி', 18), ('ு', 18), ('oh', 17), ('comment', 17), ('simply', 17), ('three', 17), ('best', 17), ('after', 17), ('fair', 17), ('understand', 17), ('2', 17), ('yourself', 17), ('using', 17), ('still', 17), ('words', 17), ('–', 17), ('street', 17), ('above', 16), ('nothing', 16), ('question', 16), ('history', 16), ('each', 16), ('look', 16), ('welcome', 16), ('let', 16), ('request', 16), ('done', 16), ('removed', 16), ('bootleg', 16), ('kind', 15), ('person', 15), ('never', 15), ('site', 15), ('reason', 15), ('book', 15), ('enough', 15), ('matter', 15), ('free', 15), ('gay', 15), ('english', 15), ('care', 15), ('—', 15), ('through', 15), ('comments', 15), ('last', 15), ('hey', 15), ('remove', 15), ('point', 15), ('references', 15), ('support', 15), ('better', 14), ('makes', 14), ('stupid', 14), ('rationale', 14), ('bit', 14), ('day', 14), ('hard', 14), ('fact', 14), ('hope', 14), ('having', 14), ('~', 14), ('thing', 14), ('[', 14), ('years', 14), ('%', 14), ('created', 14), ('different', 14), ('warning', 13), ('list', 13), (\"you've\", 13), ('contributions', 13), ('utc', 13), ('show', 13), ('however', 13), ('give', 13), ('continue', 13), ('style', 13), ('questions', 13), ('american', 13), ('call', 13), ('clearly', 13), ('come', 13), ('1', 13), ('*', 13), ('biased', 13), ('links', 13), ('’', 13), ('college', 13), ('deletion', 13), ('ட', 13), ('anti-semitism', 13), ('long', 12), ('asshole', 12), ('leave', 12), ('around', 12), (\"can't\", 12), ('seem', 12), ('found', 12), ('vandalism', 12), ('short', 12), ('rather', 12), ('provide', 12), ('least', 12), (\"that's\", 12), ('reverted', 12), ('entry', 12), ('dont', 12), ('25', 12), ('disc', 12), ('old', 12), ('caused', 12), ('ா', 12), ('issue', 11), ('later', 11), ('current', 11), ('view', 11), ('further', 11), ('whether', 11), ('government', 11), ('main', 11), ('both', 11), ('ban', 11), ('eat', 11), ('yet', 11), ('bastard', 11), ('mother', 11), ('topic', 11), ('try', 11), ('adding', 11), ('getting', 11), (']', 11), ('revert', 11), ('hit', 11), ('once', 11), ('knowledge', 11), ('between', 11), ('second', 11), ('together', 11), ('title', 11), ('text', 11), ('far', 11), ('etc', 11), ('2012', 11), ('problem', 11), ('aig', 11), ('feel', 10), ('quite', 10), ('though', 10), ('attack', 10), ('reliable', 10), ('wrong', 10), ('attitude', 10), ('alone', 10), ('check', 10), ('called', 10), ('man', 10), ('redirect', 10), ('change', 10), ('re', 10), ('whole', 10), ('idiot', 10), ('account', 10), ('upon', 10), ('improve', 10), (\"didn't\", 10), ('remember', 10), ('part', 10), ('policies', 10), ('policy', 10), ('respect', 10), ('hello', 10), ('everyone', 10), ('instead', 10), ('state', 10), ('consensus', 10), ('wall', 10), ('@', 10), ('க', 10), ('ற', 10), ('த', 10), ('rugby', 10), ('editor', 9), ('left', 9), ('admins', 9), ('attacks', 9), ('im', 9), ('news', 9), ('unblock', 9), ('piece', 9), ('editors', 9), ('ip', 9), ('act', 9), ('note', 9), ('website', 9), ('mention', 9), ('true', 9), ('reference', 9), ('t', 9), ('head', 9), ('cannot', 9), ('either', 9), (\"i'll\", 9), ('moron', 9), ('learn', 9), ('lead', 9), ('changes', 9), ('saying', 9), ('various', 9), ('jews', 9), ('days', 9), ('statement', 9), ('nonsense', 9), ('original', 9), ('faith', 9), ('anyway', 9), (\"you'll\", 9), ('definition', 9), ('guidelines', 9), ('able', 9), ('beautiful', 9), ('discuss', 9), ('loan', 9), ('bernanke', 9), ('usa', 9), ('possible', 9), ('posted', 9), ('scientific', 9), ('correct', 9), ('ம', 9), ('represented', 9), (\"isn't\", 8), ('cheers', 8), ('important', 8), ('states', 8), ('power', 8), ('big', 8), ('fine', 8), ('cunt', 8), ('political', 8), ('during', 8), ('common', 8), ('listed', 8), ('lot', 8), ('completely', 8), ('given', 8), ('field', 8), ('several', 8), ('means', 8), ('description', 8), ('anyone', 8), ('happy', 8), ('suggest', 8), ('mentioned', 8), ('level', 8), ('due', 8), ('version', 8), ('grammar', 8), ('general', 8), ('serious', 8), ('guys', 8), ('class', 8), ('number', 8), ('notable', 8), ('whatever', 8), ('absolutely', 8), ('rfc', 8), ('neutral', 8), ('myself', 8), ('probably', 8), ('message', 8), ('changed', 8), ('seen', 8), ('merge', 8), ('reasons', 8), ('google', 8), ('says', 8), ('thought', 8), ('actions', 8), ('related', 8), ('hell', 8), ('info', 8), ('word', 8), ('chavo', 8), ('jr', 8), ('played', 8), ('complete', 8), ('line', 8), ('beth', 8), ('party', 8), ('band', 8), ('needs', 8), ('ே', 8), ('involved', 7), ('lost', 7), ('interest', 7), ('therefore', 7), ('media', 7), ('evidence', 7), ('dude', 7), ('attention', 7), ('faggot', 7), ('goes', 7), ('written', 7), ('write', 7), ('yes', 7), ('claim', 7), ('told', 7), ('writing', 7), ('type', 7), ('ps', 7), ('although', 7), ('aware', 7), ('until', 7), (\"doesn't\", 7), ('dumb', 7), ('deal', 7), ('unblocked', 7), ('appear', 7), ('men', 7), ('ahead', 7), ('control', 7), ('become', 7), ('already', 7), ('area', 7), ('modern', 7), ('sense', 7), ('helpful', 7), ('date', 7), ('efforts', 7), ('file', 7), ('listen', 7), ('stuff', 7), ('blocking', 7), ('agenda', 7), ('dirty', 7), ('ago', 7), ('tags', 7), ('certainly', 7), (\"i'd\", 7), ('else', 7), ('vote', 7), ('sourcing', 7), ('research', 7), ('calling', 7), ('form', 7), ('greek', 7), ('sr', 7), ('clear', 7), ('position', 7), ('months', 7), ('claims', 7), ('study', 7), ('themselves', 7), ('women', 7), ('oscar', 7), ('gutierrez', 7), ('bash', 7), ('guerrero', 7), (\"what's\", 7), ('argument', 7), ('got', 7), ('always', 7), ('reverting', 7), ('few', 7), ('run', 7), ('geitner', 7), ('paulson', 7), ('today', 7), ('conflict', 7), ('_', 7), ('religious', 7), ('creation', 7), ('process', 7), ('வ', 7), ('jewish', 7), ('lay', 7), ('civility', 7), ('clairsentience', 7), ('persons', 6), ('war', 6), ('example', 6), ('idea', 6), ('perhaps', 6), ('troll', 6), ('lives', 6), ('crap', 6), ('available', 6), ('talking', 6), ('friends', 6), ('according', 6), ('group', 6), ('parents', 6), ('bad', 6), ('considered', 6), ('ok', 6), (\"he's\", 6), ('truly', 6), ('wanted', 6), ('cause', 6), ('ignorant', 6), ('towards', 6), ('itself', 6), ('came', 6), ('enjoy', 6), ('gone', 6), ('voting', 6), ('market', 6), ('four', 6), (');', 6), ('automatically', 6), ('lack', 6), ('images', 6), (\"won't\", 6), ('suspect', 6), ('saw', 6), ('asked', 6), ('template', 6), ('outside', 6), ('america', 6), ('supposed', 6), ('amount', 6), ('ah', 6), ('high', 6), ('silly', 6), ('logic', 6), ('including', 6), ('encyclopedia', 6), ('examples', 6), ('year', 6), ('based', 6), ('bring', 6), ('meet', 6), ('start', 6), ('move', 6), ('post', 6), ('useful', 6), ('dispute', 6), ('die', 6), ('fictional', 6), ('south', 6), ('appropriate', 6), ('blue', 6), ('seriously', 6), ('wrote', 6), ('palmer', 6), ('3', 6), ('ridiculous', 6), ('standard', 6), ('users', 6), ('facts', 6), ('smackdown', 6), ('heavyweight', 6), ('champion', 6), ('low', 6), ('player', 6), ('down', 6), ('iq', 6), ('final', 6), ('answer', 6), ('interested', 6), ('tag', 6), ('country', 6), ('video', 6), ('contact', 6), ('justine', 6), ('recent', 6), ('went', 6), ('french', 6), ('lose', 6), ('tool', 6), ('applied', 6), ('trying', 6), ('create', 6), ('couple', 6), ('uses', 6), ('^', 6), ('movement', 6), ('speedy', 6), ('homosexual', 6), ('arms', 6), ('points', 6), ('previous', 6), ('coming', 6), ('forget', 6), ('கள', 6), ('ை', 6), ('poor', 6), ('bulls', 6), ('cup', 6), ('issues', 6), ('physics', 6), ('width', 6), ('western', 6), ('sahara', 6), ('republic', 6), ('lazy', 5), ('reading', 5), ('cited', 5), ('included', 5), ('p', 5), ('felt', 5), ('quality', 5), ('wikipedian', 5), ('assange', 5), ('propaganda', 5), ('4', 5), ('march', 5), ('tell', 5), ('harassment', 5), ('mind', 5), ('especially', 5), ('statements', 5), ('less', 5), ('livery', 5), ('address', 5), ('discrimination', 5), ('ya', 5), ('ignorance', 5), ('john', 5), ('retarded', 5), (\"let's\", 5), ('non-free', 5), ('consistent', 5), (\"wikipedia's\", 5), ('r', 5), ('fucked', 5), ('banned', 5), ('school', 5), ('mr', 5), ('working', 5), ('sex', 5), ('course', 5), ('body', 5), ('death', 5), ('behind', 5), ('sock', 5), ('contributors', 5), ('preceding', 5), ('subjects', 5), ('million', 5), ('stated', 5), ('vandalize', 5), ('nation', 5), ('decide', 5), ('stay', 5), ('sign', 5), ('tells', 5), ('small', 5), ('pathetic', 5), ('computer', 5), ('future', 5), ('per', 5), ('attempt', 5), ('origin', 5), ('allow', 5), ('edited', 5), ('times', 5), ('nemonic', 5), ('easy', 5), ('significant', 5), ('six', 5), ('cos', 5), ('took', 5), ('15', 5), ('minutes', 5), ('coat', 5), ('damn', 5), ('obvious', 5), ('light', 5), ('opinion', 5), ('deleting', 5), ('team', 5), ('gonna', 5), ('respond', 5), ('rm', 5), (\"haven't\", 5), ('worked', 5), ('specific', 5), ('wish', 5), ('funny', 5), ('lol', 5), ('assume', 5), ('beyond', 5), ('2010', 5), ('eastlake', 5), ('exit', 5), ('putting', 5), ('taken', 5), ('james', 5), ('disruptive', 5), ('discussed', 5), ('topics', 5), ('share', 5), ('hits', 5), ('vfd', 5), ('mine', 5), ('dead', 5), ('total', 5), ('shawn', 5), ('michaels', 5), ('return', 5), ('100', 5), ('looking', 5), ('abused', 5), ('along', 5), ('noticed', 5), ('removing', 5), ('result', 5), ('subject', 5), ('moment', 5), ('citation', 5), ('conversation', 5), ('spending', 5), ('close', 5), ('full', 5), ('official', 5), ('10', 5), ('regarding', 5), ('public', 5), ('global', 5), ('markets', 5), ('crisis', 5), ('huge', 5), ('jones', 5), ('action', 5), ('exist', 5), ('placed', 5), ('away', 5), ('harry', 5), ('australia', 5), ('submission', 5), ('community', 5), ('avoid', 5), ('e', 5), ('18', 5), ('super', 5), ('surname', 5), ('review', 5), ('fat', 5), ('fun', 5), ('justify', 5), ('threatening', 5), ('designed', 5), ('horn', 5), ('sahrawi', 5), ('strong', 4), ('rules', 4), ('names', 4), ('white', 4), ('decision', 4), ('anymore', 4), ('founder', 4), ('journalism', 4), ('whereby', 4), ('thoughts', 4), ('abuse', 4), ('liar', 4), ('internet', 4), ('law', 4), ('business', 4), ('events', 4), ('distance', 4), ('sound', 4), ('access', 4), ('material', 4), ('mod', 4), ('recently', 4), ('sorry', 4), ('report', 4), ('dare', 4), ('changing', 4), ('space', 4), ('language', 4), ('books', 4), ('born', 4), ('assuming', 4), ('civil', 4), ('justification', 4), ('criteria', 4), ('showing', 4), ('o', 4), ('wanna', 4), ('basically', 4), ('contributing', 4), ('gives', 4), ('single', 4), ('game', 4), ('god', 4), ('human', 4), ('valid', 4), ('color', 4), ('ignore', 4), ('prove', 4), ('obtuse', 4), ('serve', 4), ('separate', 4), ('actual', 4), ('himself', 4), ('ignoring', 4), ('behavior', 4), ('unsigned', 4), ('except', 4), ('equally', 4), ('asking', 4), ('effort', 4), ('term', 4), ('five', 4), ('tildes', 4), ('petty', 4), ('status', 4), ('contribute', 4), ('evil', 4), ('helping', 4), ('decline', 4), ('below', 4), ('track', 4), ('types', 4), ('pretend', 4), ('lies', 4), ('parts', 4), ('h', 4), ('teach', 4), ('shows', 4), ('end', 4), ('tagged', 4), ('angry', 4), ('cut', 4), ('huskies', 4), ('guess', 4), ('pay', 4), ('front', 4), ('german', 4), ('proposal', 4), (\"there's\", 4), ('propose', 4), ('accept', 4), ('test', 4), ('x', 4), ('tom', 4), ('equal', 4), ('practice', 4), ('often', 4), ('solid', 4), ('fight', 4), ('ecw', 4), ('moved', 4), ('week', 4), ('air', 4), ('dx', 4), ('ones', 4), ('mos', 4), ('uncivil', 4), ('interesting', 4), ('black', 4), ('highest', 4), ('rule', 4), ('eyes', 4), ('gave', 4), ('g', 4), ('advice', 4), ('large', 4), ('proof', 4), ('earlier', 4), ('system', 4), ('thinks', 4), ('yours', 4), ('claiming', 4), ('job', 4), ('cross', 4), ('album', 4), ('response', 4), ('errors', 4), ('8', 4), ('players', 4), ('profile', 4), ('formal', 4), ('baby', 4), ('watch', 4), ('tm', 4), ('sourced', 4), ('particularly', 4), ('goal', 4), ('middle', 4), ('otherwise', 4), ('crime', 4), ('mainstream', 4), ('rest', 4), ('likely', 4), ('living', 4), ('sitting', 4), ('red', 4), ('held', 4), ('definitely', 4), ('canada', 4), ('spend', 4), ('finally', 4), ('morning', 4), ('summary', 4), ('notice', 4), ('quit', 4), ('opinions', 4), ('2007', 4), ('open', 4), ('van', 4), ('refusal', 4), ('proposals', 4), ('expert', 4), ('directly', 4), ('next', 4), ('de', 4), ('major', 4), ('woman', 4), ('supporters', 4), ('format', 4), ('looks', 4), ('thus', 4), ('citadel', 4), ('calls', 4), ('method', 4), ('following', 4), ('yeah', 4), ('works', 4), ('___', 4), ('category', 4), ('reasoning', 4), ('existing', 4), (\"people's\", 4), ('uk', 4), ('weapon', 4), ('within', 4), ('disputed', 4), ('giving', 4), ('thousands', 4), ('terms', 4), ('tamil', 4), ('தம', 4), ('ழ', 4), ('ல', 4), ('ர', 4), ('ண', 4), ('ய', 4), ('everything', 4), ('maybe', 4), ('play', 4), ('nt', 4), ('ga', 4), ('threats', 4), ('christianity', 4), ('explanation', 4), ('hour', 4), ('addition', 4), ('requests', 4), ('irish', 4), ('entire', 4), ('clairvoyance', 4), ('tao', 4), ('literature', 4), ('background-color', 4), ('#f5fffa', 4), ('vertical-align', 4), ('stalker', 3), ('ownership', 3), ('personally', 3), ('boys', 3), ('mentioning', 3), ('pretty', 3), ('learning', 3), ('allegations', 3), ('warring', 3), ('necessarily', 3), ('corporate', 3), ('americans', 3), ('2011', 3), ('constant', 3), ('honestly', 3), ('posts', 3), ('mistake', 3), ('seeking', 3), ('playground', 3), ('boy', 3), ('rude', 3), ('blatant', 3), ('laws', 3), ('fire', 3), ('lake', 3), ('author', 3), ('vietnamese', 3), ('published', 3), ('flawed', 3), ('died', 3), ('campaign', 3), ('chart', 3), ('phrase', 3), ('near', 3), ('speak', 3), ('belongs', 3), ('minority', 3), ('suggests', 3), ('april', 3), ('20', 3), ('texas', 3), ('wtf', 3), ('guy', 3), ('ways', 3), ('federal', 3), ('explaining', 3), ('guideline', 3), ('bed', 3), ('whom', 3), ('deserves', 3), ('purpose', 3), ('education', 3), ('wait', 3), ('slim', 3), ('ganna', 3), (\"ain't\", 3), ('fuckin', 3), ('gets', 3), ('family', 3), ('sick', 3), ('treated', 3), ('seemed', 3), ('numerous', 3), ('self', 3), ('sockpuppet', 3), ('thinking', 3), ('watching', 3), ('everytime', 3), ('don', 3), ('handle', 3), ('accused', 3), ('accusing', 3), ('correctly', 3), ('strongly', 3), ('continues', 3), ('rfa', 3), ('supported', 3), ('hate', 3), ('sir', 3), ('suggestion', 3), ('inappropriate', 3), ('regarded', 3), ('greatest', 3), ('km2', 3), ('russia', 3), ('studied', 3), ('prefer', 3), ('pillars', 3), ('tutorial', 3), ('manual', 3), ('produce', 3), ('helpme', 3), ('taking', 3), ('project', 3), ('appreciated', 3), ('hopefully', 3), ('professional', 3), ('ability', 3), ('courtesy', 3), ('star', 3), ('appears', 3), ('speech', 3), ('producer', 3), ('imply', 3), ('movies', 3), ('30', 3), ('story', 3), ('plus', 3), ('concerned', 3), ('former', 3), ('latter', 3), ('communicate', 3), ('application', 3), ('banning', 3), ('mistakes', 3), ('intentional', 3), ('blood', 3), ('visit', 3), ('chinese', 3), ('largely', 3), ('truth', 3), (\"they're\", 3), (\"shouldn't\", 3), ('paper', 3), ('functions', 3), ('simple', 3), ('picked', 3), ('press', 3), ('truck', 3), ('accordance', 3), ('copyright', 3), ('motherfucker', 3), ('washington', 3), ('fan', 3), ('languages', 3), ('love', 3), ('nazi', 3), ('fascist', 3), ('link', 3), ('prior', 3), ('arguments', 3), ('military', 3), ('sections', 3), ('exactly', 3), ('wants', 3), ('indeed', 3), ('additionally', 3), ('misleading', 3), ('rhetorical', 3), ('sandbox', 3), ('rights', 3), ('douche', 3), ('starting', 3), ('home', 3), (\"couldn't\", 3), ('hardly', 3), (\"wasn't\", 3), ('blvd', 3), ('corrected', 3), ('429', 3), ('compromise', 3), ('penis', 3), ('mirror', 3), ('jannetty', 3), ('officially', 3), ('rumors', 3), ('shortly', 3), ('wwe', 3), ('publicly', 3), ('eric', 3), ('university', 3), ('acting', 3), (\"hadn't\", 3), ('shame', 3), ('standards', 3), ('program', 3), ('busking', 3), ('venue', 3), ('performance', 3), ('entries', 3), ('night', 3), ('finished', 3), ('silence', 3), ('wont', 3), ('bias', 3), ('lived', 3), ('poop', 3), ('voted', 3), ('mainly', 3), ('primary', 3), ('charge', 3), ('figure', 3), ('playing', 3), ('decided', 3), ('noise', 3), ('waiting', 3), ('stand', 3), ('forces', 3), ('kill', 3), ('citing', 3), ('early', 3), ('career', 3), ('disambiguation', 3), ('listing', 3), ('trivia', 3), ('canadian', 3), ('ragweed', 3), ('06:18', 3), ('06:05', 3), ('whose', 3), ('nice', 3), ('c', 3), ('importance', 3), ('interwiki', 3), ('internal', 3), ('incoming', 3), ('eg', 3), ('age', 3), ('era', 3), ('century', 3), ('cricket', 3), ('ranked', 3), ('series', 3), ('everywhere', 3), ('sentence', 3), ('double', 3), ('schulz', 3), ('un', 3), ('fiction', 3), ('kids', 3), ('2009', 3), ('disappear', 3), ('experience', 3), ('soon', 3), ('reverts', 3), ('priyanka', 3), ('removal', 3), ('7', 3), ('input', 3), ('reviewer', 3), ('pull', 3), ('provided', 3), ('count', 3), ('matches', 3), ('cock', 3), ('knowing', 3), ('situation', 3), ('forgot', 3), ('“', 3), ('”', 3), ('event', 3), ('reporting', 3), ('m', 3), ('physical', 3), ('room', 3), ('presence', 3), ('allowed', 3), ('responsible', 3), ('wore', 3), ('virtually', 3), ('display', 3), ('finger', 3), ('doubt', 3), ('eventually', 3), ('needed', 3), ('associated', 3), ('soviet', 3), (\"person's\", 3), ('apparently', 3), ('particular', 3), ('car', 3), ('jew', 3), ('japanese', 3), ('child', 3), ('games', 3), ('reflinks', 3), ('tab', 3), ('choose', 3), ('apology', 3), ('deserve', 3), ('independence', 3), ('movie', 3), ('telling', 3), ('fed', 3), ('announced', 3), ('insurance', 3), ('issued', 3), ('allowing', 3), ('collapse', 3), ('saved', 3), ('understanding', 3), ('depression', 3), ('none', 3), ('economy', 3), ('lie', 3), ('capital', 3), ('esp', 3), ('incorrect', 3), ('dangerous', 3), ('appeal', 3), ('convinced', 3), ('reply', 3), ('order', 3), ('copied', 3), ('finding', 3), ('relating', 3), ('problems', 3), ('skeptic', 3), ('doc', 3), ('hold', 3), ('contribs', 3), ('troy', 3), ('apologize', 3), ('btw', 3), ('labour', 3), ('communist', 3), ('possibly', 3), ('lady', 3), ('follow', 3), ('whitehead', 3), ('restore', 3), ('citations', 3), ('ready', 3), ('caption', 3), ('23', 3), ('relevant', 3), ('january', 3), ('agreement', 3), ('scheme', 3), ('lassie', 3), ('unique', 3), ('structures', 3), ('award', 3), ('badge', 3), ('require', 3), ('hundreds', 3), ('technology', 3), ('fool', 3), ('indicate', 3), ('false', 3), ('usually', 3), ('மக', 3), ('ந', 3), ('ன', 3), ('value', 3), ('intended', 3), ('side', 3), ('objects', 3), ('children', 3), ('sell', 3), ('squad', 3), ('half', 3), ('national', 3), ('currie', 3), ('vodacom', 3), ('indicator', 3), ('cc', 3), ('vc', 3), ('defined', 3), ('linked', 3), ('ignored', 3), ('alleged', 3), ('authoritative', 3), ('galloway', 3), ('trouble', 3), ('relation', 3), ('weeks', 3), ('kicked', 3), ('glad', 3), ('madness', 3), ('extinction', 3), ('eunuchs', 3), ('decorated', 3), ('afd', 3), ('polygon', 3), ('frequently', 3), ('spot', 3), ('nature', 3), ('theory', 3), ('pieces', 3), ('pounder', 3), ('gun', 3), ('honest', 3), ('equality', 3), ('entirely', 3), ('formatting', 3), ('kwa', 3), ('goaded', 3), ('multiple', 3), ('orthodox', 3), ('interests', 3), ('hours', 3), ('vassal', 3), ('salvador', 3), ('mental', 3), ('health', 3), ('5', 3), ('rewrites', 3), ('detail', 3), ('barnstar', 3), ('arthashastra', 3), ('mckay', 3), ('mainpagebg', 3), ('55', 3), ('border', 3), ('1px', 3), ('weapons', 3), ('accuse', 2), ('suit', 2), ('properly', 2), ('proud', 2), ('gain', 2), ('concerning', 2), ('henry', 2), ('dad', 2), ('arrogance', 2), ('leaving', 2), ('precious', 2), ('inquiry-based', 2), ('alright', 2), ('willing', 2), ('cia', 2), ('copy', 2), ('quote', 2), ('wikileaks', 2), ('mostly', 2), ('identify', 2), ('δt', 2), ('offensive', 2), ('error', 2), ('worry', 2), (\"mother's\", 2), ('basement', 2), ('whore', 2), ('retarted', 2), ('wiping', 2), ('fucker', 2), ('dumbass', 2), ('throw', 2), (\"ya'll\", 2), ('1972', 2), ('north', 2), ('worse', 2), ('almost', 2), ('basis', 2), ('800', 2), ('contrast', 2), ('modified', 2), ('express', 2), ('unit', 2), ('leacon', 2), ('explain', 2), ('effigy', 2), ('studios', 2), ('owner', 2), ('12th', 2), ('doctor', 2), ('dixon', 2), ('individual', 2), ('respected', 2), ('judge', 2), ('presented', 2), ('sufficient', 2), ('influential', 2), ('smart', 2), ('grow', 2), ('brain', 2), ('tribes', 2), ('recognized', 2), ('united', 2), ('legitimate', 2), ('usage', 2), ('aka', 2), ('girl', 2), ('cheated', 2), ('hurt', 2), ('ultimately', 2), ('property', 2), ('childcare', 2), ('treat', 2), ('helpfully', 2), ('fisherqueen', 2), ('jump', 2), ('maintain', 2), ('honor', 2), ('wrestler', 2), ('episode', 2), ('clean', 2), ('season', 2), ('unhelpful', 2), ('continuously', 2), ('aim', 2), ('bother', 2), ('afraid', 2), ('peoples', 2), ('genital', 2), ('fit', 2), ('wedge', 2), ('keeps', 2), ('assure', 2), ('asskrack', 2), ('puppetry', 2), ('expect', 2), ('::', 2), ('wishes', 2), ('criticisms', 2), ('logical', 2), ('weak', 2), ('bye', 2), ('lmao', 2), ('ima', 2), ('miss', 2), ('myspace', 2), ('`', 2), ('criticism', 2), ('looked', 2), ('non-notable', 2), ('acceptable', 2), ('deletions', 2), ('encyclopaedia', 2), ('land', 2), ('ottoman', 2), ('empire', 2), ('force', 2), ('obviously', 2), ('confederation', 2), ('balls', 2), ('porn', 2), ('adult', 2), ('film', 2), ('ugly', 2), ('anal', 2), ('retentive', 2), ('authority', 2), ('seconds', 2), ('recognition', 2), ('professionals', 2), ('highly', 2), ('unfortunately', 2), ('involvement', 2), ('bertiebasset', 2), ('well-meaning', 2), ('moronic', 2), ('failed', 2), ('2005', 2), ('uploaded', 2), ('damaged', 2), ('fixed', 2), ('violating', 2), ('smallville', 2), ('closer', 2), ('mike', 2), ('teaching', 2), ('normally', 2), ('implying', 2), ('illegitimate', 2), ('motivated', 2), ('stubborn', 2), ('taught', 2), ('guidlines', 2), ('powers', 2), ('guidance', 2), ('←', 2), ('positions', 2), ('numbered', 2), ('northern', 2), ('shouting', 2), ('learned', 2), ('trig', 2), ('oh-ah', 2), ('ha', 2), ('unlike', 2), ('1st', 2), ('students', 2), ('sin', 2), ('tan', 2), ('laughter', 2), ('45', 2), ('speculation', 2), ('unproven', 2), ('charges', 2), ('encyclopedic', 2), ('happened', 2), ('undue', 2), ('load', 2), ('jimmy', 2), ('googlechromewindows5037538.png', 2), ('thats', 2), ('providing', 2), ('remain', 2), ('third', 2), ('set', 2), ('ducks', 2), ('europe', 2), ('map', 2), ('uneducated', 2), ('stick', 2), ('hiding', 2), ('pair', 2), ('brief', 2), ('discussions', 2), ('limited', 2), ('rebuttals', 2), ('territory', 2), ('serbia', 2), ('dance', 2), ('effect', 2), (\"where's\", 2), ('co', 2), ('perceived', 2), ('proper', 2), ('outcome', 2), ('dr', 2), ('immensely', 2), ('obscure', 2), ('balance', 2), ('astrology', 2), ('basic', 2), ('freedom', 2), ('plain', 2), ('bunch', 2), ('kindly', 2), ('apart', 2), ('(:', 2), ('racist', 2), ('referring', 2), ('paragraphs', 2), ('forms', 2), ('lame', 2), ('xd', 2), ('easily', 2), ('accessible', 2), ('library', 2), ('difficult', 2), ('signs', 2), ('east', 2), ('wrapped', 2), ('city', 2), ('pkwy', 2), ('accessed', 2), ('column', 2), ('dahn', 2), ('typical', 2), ('loser', 2), ('sexually', 2), ('frustrated', 2), ('net', 2), ('omfg', 2), ('insignificant', 2), ('thnk', 2), ('v', 2), ('son', 2), ('font-size', 2), ('85', 2), ('gangrel', 2), ('valet', 2), ('bischoff', 2), ('roster', 2), ('talent', 2), ('hasnt', 2), ('released', 2), ('signed', 2), ('considering', 2), ('match', 2), ('sunday', 2), ('promote', 2), ('cant', 2), ('seperate', 2), ('albeit', 2), (\"aren't\", 2), ('editorial', 2), ('dates', 2), ('threaten', 2), ('blocks', 2), ('wording', 2), ('21', 2), ('2008', 2), ('weird', 2), ('drops', 2), ('brothers', 2), ('african', 2), ('nobody', 2), ('experiment', 2), ('notability', 2), ('query', 2), ('bag', 2), ('performing', 2), ('stage', 2), ('distinction', 2), ('pimping', 2), ('aids', 2), ('fascists', 2), ('role', 2), ('comply', 2), ('fred', 2), ('founders', 2), ('sites', 2), ('viewpoints', 2), ('jerk', 2), ('justified', 2), ('returns', 2), ('34,900', 2), ('inconsistent', 2), ('>', 2), ('treatment', 2), ('perceive', 2), ('self-promotion', 2), ('debate', 2), ('realize', 2), ('grounds', 2), ('openly', 2), ('publications', 2), ('similar', 2), ('arbitrary', 2), ('seemingly', 2), ('agf', 2), ('shoulders', 2), ('commons', 2), ('solution', 2), ('regular', 2), ('celtic', 2), ('hippo', 2), ('43', 2), ('join', 2), ('bullied', 2), ('scottish', 2), ('michael', 2), ('belive', 2), ('young', 2), (\"c'mon\", 2), ('ur', 2), ('217.41', 2), ('bugs', 2), ('05:21', 2), ('05:18', 2), ('extreme', 2), ('10:09', 2), ('10:07', 2), ('10:05', 2), ('10:03', 2), ('06:28', 2), ('06:27', 2), ('06:24', 2), ('billy', 2), (\"bob's\", 2), ('06:13', 2), ('06:12', 2), ('06:10', 2), ('06:09', 2), ('india', 2), ('recentism', 2), ('trumper', 2), ('supreme', 2), ('dhoni', 2), ('odd', 2), ('lists', 2), ('piss', 2), ('stephan', 2), ('writings', 2), ('animal', 2), ('censorship', 2), ('politics', 2), ('spam', 2), ('stadium', 2), ('shut', 2), ('pregnant', 2), ('expanded', 2), ('box', 2), ('fired', 2), ('watford', 2), ('beat', 2), ('leeds', 2), ('reach', 2), ('ve', 2), ('fall', 2), ('reversion', 2), ('referenced', 2), ('excess', 2), ('discussing', 2), ('headed', 2), ('walsh', 2), ('whatsoever', 2), ('materials', 2), ('background', 2), ('compound', 2), ('devoted', 2), ('appearances', 2), ('shitty', 2), ('feeling', 2), ('spelling', 2), ('ned', 2), ('remarks', 2), ('waiters', 2), ('accounts', 2), ('independently', 2), ('merely', 2), ('scene', 2), ('credibility', 2), ('recommend', 2), ('re-read', 2), ('cite', 2), ('authenticity', 2), ('primarily', 2), ('j', 2), ('graduated', 2), ('graduation', 2), ('airport', 2), ('plenty', 2), ('passed', 2), ('kept', 2), ('location', 2), ('sat', 2), ('wine', 2), ('continuing', 2), ('house', 2), ('alcohol', 2), ('chatting', 2), ('across', 2), ('weekend', 2), ('recliner', 2), ('florida', 2), ('skin', 2), ('hair', 2), ('thin', 2), ('meeting', 2), ('dress', 2), ('stockings', 2), ('heels', 2), ('earrings', 2), ('worn', 2), ('fear', 2), ('waking', 2), ('inside', 2), ('conduct', 2), ('tiny', 2), ('ear', 2), ('absently', 2), ('intimacy', 2), ('bare', 2), ('touches', 2), ('familiar', 2), ('intimate', 2), ('longer', 2), ('army', 2), ('z', 2), ('6', 2), ('curious', 2), ('angle', 2), ('declined', 2), (\"you'd\", 2), ('airing', 2), ('certain', 2), ('bullshit', 2), ('character', 2), ('immature', 2), ('figured', 2), ('cry', 2), ('favor', 2), ('click', 2), ('web', 2), ('retard', 2), ('«', 2), ('»', 2), ('tempted', 2), ('resource', 2), ('happens', 2), ('50', 2), ('dollar', 2), ('club', 2), ('k', 2), ('australian', 2), ('35', 2), ('resulted', 2), ('informed', 2), ('conclusions', 2), ('supporting', 2), ('fail', 2), ('massive', 2), ('private', 2), ('occurred', 2), ('explained', 2), ('treasury', 2), ('69.121', 2), ('221.97', 2), ('higher', 2), ('qualified', 2), ('neither', 2), ('appropriately', 2), ('oil', 2), ('gold', 2), (\"bernanke's\", 2), ('clue', 2), ('nearly', 2), ('push', 2), ('non', 2), ('congress', 2), ('subprime', 2), ('overall', 2), ('smaller', 2), ('$', 2), ('retrenchment', 2), ('governement', 2), ('fault', 2), ('destruction', 2), ('formation', 2), ('key', 2), ('economic', 2), ('300', 2), ('efficient', 2), ('ventures', 2), ('sequence', 2), ('core', 2), ('special', 2), ('fraudulent', 2), ('representation', 2), ('biographies', 2), ('negotiable', 2), ('base', 2), ('promotional', 2), ('artist', 2), ('served', 2), ('followed', 2), ('spoken', 2), ('hat', 2), ('puzzled', 2), ('pov', 2), ('wwi', 2), ('approved', 2), ('reader', 2), ('matt', 2), ('sanchez', 2), ('oldest', 2), ('visual', 2), ('compare', 2), ('tidy', 2), ('table', 2), ('necessary', 2), ('cases', 2), ('apply', 2), ('received', 2), ('swedish', 2), ('upload', 2), ('projects', 2), ('tries', 2), ('82.224', 2), ('230.5', 2), ('trolling', 2), ('knows', 2), ('fields', 2), ('experts', 2), ('educational', 2), ('wonder', 2), ('contribution', 2), ('high-school', 2), ('unquestionably', 2), ('context', 2), ('monster', 2), ('sent', 2), ('killed', 2), ('versions', 2), ('hercules', 2), ('sack', 2), ('uncivility', 2), ('object', 2), ('=|', 2), ('__', 2), ('brake', 2), ('chain', 2), ('cursed', 2), ('uglyness', 2), ('pass', 2), ('napier', 2), ('fit.jpg.jpg', 2), ('altered', 2), ('search', 2), (\"hasn't\", 2), ('explicitly', 2), ('partido', 2), ('translated', 2), ('alternative', 2), ('spanish', 2), ('mascots', 2), (\"world's\", 2), ('formed', 2), ('deserved', 2), ('bars', 2), ('engage', 2), ('fuckers', 2), ('counted', 2), ('figures', 2), ('conditions', 2), ('makers', 2), ('hand', 2), ('instance', 2), ('declared', 2), ('accepted', 2), ('yugoslavia', 2), ('draw', 2), ('manga', 2), ('binksternet', 2), ('cronies', 2), ('insert', 2), ('placing', 2), ('improving', 2), ('wrights', 2), ('reported', 2), ('unreliable', 2), ('bottom', 2), ('refrain', 2), (\"article's\", 2), ('meets', 2), ('rick', 2), ('infected', 2), ('year-old', 2), ('sexual', 2), ('sucks', 2), ('defines', 2), ('countries', 2), ('classification', 2), ('romance', 2), ('commonly', 2), ('submitted', 2), ('recorded', 2), ('desk', 2), ('salty', 2), ('demonstrate', 2), ('arborsculpture', 2), ('purple', 2), ('truthseekers', 2), ('facist', 2), ('murderers', 2), ('unbiased', 2), ('hon', 2), ('edit-warring', 2), ('laugh', 2), ('abusive', 2), ('disrespectful', 2), ('dutch', 2), ('fly', 2), ('‘', 2), ('tilde', 2), ('cedilla', 2), ('pronunciatory', 2), ('quickly', 2), ('donkey', 2), ('organisation', 2), ('members', 2), ('affirmative', 2), ('tamilian', 2), ('bodhidharma', 2), ('அவர', 2), ('ச', 2), ('ஆத', 2), ('ரம', 2), ('ோ', 2), ('கட', 2), ('ப', 2), ('அன', 2), ('மற', 2), ('வரல', 2), ('ெ', 2), ('amplitude', 2), ('cultural', 2), ('porto', 2), ('alegre', 2), ('cd-r', 2), ('bruno', 2), ('jazz', 2), ('improv', 2), ('cp', 2), ('believed', 2), ('music', 2), ('1991', 2), ('toys', 2), ('direction', 2), ('among', 2), ('9', 2), ('ages', 2), ('teenagers', 2), ('insulted', 2), ('teenage', 2), ('che', 2), ('latin', 2), ('ferret', 2), ('dean', 2), ('greyling', 2), ('rayno', 2), ('gerber', 2), ('rossouw', 2), ('klerk', 2), ('basil', 2), ('chiliboy', 2), ('ralepelle', 2), ('africa', 2), ('sorted', 2), ('anti-zionism', 2), (\"we've\", 2), ('religion', 2), ('denied', 2), ('theories', 2), ('acts', 2), ('arab', 2), ('israel', 2), ('groups', 2), ('international', 2), ('offer', 2), ('livingstone', 2), ('archives', 2), ('weight', 2), ('frighten', 2), ('fry', 2), ('94.8', 2), ('193.32', 2), ('literally', 2), ('norman', 2), ('lowell', 2), ('beardy', 2), ('puppet', 2), ('anime', 2), ('afc', 2), ('september', 2), ('investigation', 2), ('meaning', 2), ('judaism', 2), ('targeted', 2), ('whoever', 2), ('approach', 2), ('counter', 2), ('productive', 2), ('protect', 2), ('intentionally', 2), ('intention', 2), ('pig', 2), ('barrymore', 2), ('shiroi', 2), ('readers', 2), (\"pic's\", 2), ('anus', 2), ('refer', 2), ('slavs', 2), ('destroy', 2), ('shall', 2), ('nomination', 2), ('otters', 2), ('build', 2), ('industrial', 2), ('beef', 2), ('argue', 2), ('heading', 2), ('regard', 2), ('euclidean', 2), ('mathematical', 2), ('approaches', 2), ('polytopes', 2), ('convex', 2), ('described', 2), ('begins', 2), ('paragraph', 2), ('grünbaum', 2), ('submitting', 2), ('dear', 2), ('disrupting', 2), ('wondering', 2), ('insult', 2), ('neopaganism', 2), ('reaction', 2), ('period', 2), ('expired', 2), ('procedure', 2), ('comitted', 2), ('repeatedly', 2), (\"one's\", 2), ('takng', 2), ('prevent', 2), ('fanpop', 2), ('disapprove', 2), ('caught', 2), ('solve', 2), ('science', 2), ('worthy', 2), ('refers', 2), ('eu', 2), ('citizens', 2), ('accession', 2), ('june', 2), ('built', 2), ('pack', 2), ('combined', 2), ('f2', 2), ('design', 2), ('replacing', 2), ('centuries', 2), ('spelled', 2), ('pointed', 2), ('ani', 2), ('worth', 2), ('whilst', 2), ('pr', 2), ('dabble', 2), ('lacking', 2), ('improvements', 2), ('complaints', 2), ('nazis', 2), ('excellent', 2), ('dicono', 2), ('signa', 2), ('re-write', 2), ('progess', 2), (\"we're\", 2), ('neiln', 2), ('include', 2), ('operational', 2), ('diligence', 2), ('mexico', 2), ('arse', 2), ('yesterday', 2), ('individuals', 2), ('concerns', 2), ('becomes', 2), ('administrator', 2), ('discretion', 2), ('admit', 2), ('heritage', 2), ('wasting', 2), ('rambhadracharya', 2), ('assessment', 2), ('email', 2), ('twist', 2), ('external', 2), ('pending', 2), ('tim', 2), ('appalling', 2), ('reviewed', 2), ('numbers', 2), ('addressed', 2), (':p', 2), ('thugs', 2), ('adminship', 2), ('step', 2), ('path', 2), ('el', 2), ('nicaragua', 2), ('childishly', 2), ('meaningless', 2), ('ive', 2), ('endless', 2), ('matereal', 2), ('wikpedia', 2), ('referencing', 2), ('philosophical', 2), ('fulfill', 2), ('integrity', 2), ('bar', 2), ('...\\n\\n...', 2), ('struggle', 2), ('manifest', 2), ('niggers', 2), ('started', 2), ('break', 2), ('isis', 2), ('cyberdyne', 2), ('ling', 2), ('dvd.jpg', 2), ('checking', 2), ('circumstances', 2), ('undermine', 2), ('lamellae', 2), ('marketing', 2), ('mountains', 2), ('penmon', 2), ('suggested', 2), ('nominating', 2), ('tc', 2), ('fukin', 2), ('pattern', 2), ('apologise', 2), ('stupidity', 2), ('misery', 2), ('qed', 2), ('https://en.wikipedia.org/wiki/mckay', 2), ('surnames', 2), ('border-spacing', 2), (':8', 2), ('px', 2), ('margin', 2), ('0px', 2), ('8p', 2), ('#ffffff', 2), ('koavf', 2), ('smallminded', 2), ('target', 2), ('portal', 2), ('watches', 1), ('mytalk', 1), ('easier', 1), ('suppose', 1), ('88', 1), ('signatories', 1), ('detract', 1), ('voluntarily', 1), ('rushed', 1), ('judgment', 1), ('incident', 1), ('attempted', 1), ('hoax', 1), ('crystal', 1), ('gail', 1), ('mangum', 1), ('lee', 1), ('lucas', 1), ('vile', 1), ('post-modernist', 1), ('sewer', 1), ('cleansed', 1), ('simon', 1), ('awesome', 1), ('cares', 1), ('impunity', 1), ('concede', 1), ('flimsy', 1), ('wikleaks', 1), ('msnbc.com', 1), ('msnbc', 1), ('stories', 1), ('meme', 1), ('founded', 1), ('promulgated', 1), ('vilify', 1), ('minds', 1), ('lynched', 1), ('101', 1), ('thc', 1), ('loadee', 1), ('04:08', 1), ('cannt', 1), ('insuliting', 1), ('harrassing', 1), ('moderator', 1), ('tripping', 1), ('enter', 1), ('forgive', 1), ('blazikenmaster', 1), ('stikes', 1), ('unnecessarily', 1), ('jizz', 1), ('muther', 1), ('sincere', 1), ('slander', 1), ('mindless', 1), ('geogre', 1), ('slanderous', 1), ('muthafuckas', 1), ('dated', 1), ('tract', 1), ('vietnam', 1), ('1950s', 1), ('kinds', 1), ('condiscending', 1), ('starts', 1), ('embarrasing', 1), ('won', 1), ('awards', 1), ('anti-landlord', 1), ('nlf', 1), ('stanley', 1), ('karnow', 1), ('1983', 1), ('hysterical', 1), ('climate', 1), ('78.146', 1), ('90.164', 1), ('swt', 1), ('conforms', 1), ('disability', 1), ('grey', 1), ('gatwick', 1), ('442', 1), ('puting', 1), ('units', 1), ('benidorm', 1), ('valencia', 1), ('valencian', 1), ('catalan', 1), ('michigan', 1), ('lookup', 1), ('eminem', 1), ('thomas', 1), ('w', 1), ('johnson', 1), ('supremacist', 1), ('tomfoolery', 1), ('imediately', 1), ('bully', 1), ('worm', 1), ('allen', 1), ('lyle', 1), ('campbell', 1), ('scholar', 1), ('australianist', 1), ('competent', 1), ('cambridge', 1), ('surveys', 1), ('sole', 1), ('composer', 1), ('coeditor', 1), ('alles', 1), ('liebe', 1), ('haines', 1), ('1420', 1), ('houston', 1), ('missionary', 1), ('wront', 1), ('vandalized', 1), ('numnut', 1), ('gentlemen', 1), ('unrecognized', 1), ('cherokee', 1), ('newly', 1), ('tribe', 1), ('belong', 1), ('fantasize', 1), ('seeing', 1), ('girlfriend', 1), ('blindfold', 1), ('tie', 1), ('fantasy', 1), ('govt', 1), ('paying', 1), ('kindergarten', 1), ('excuse', 1), ('ipa', 1), ('vowel', 1), ('audio', 1), ('ideot', 1), ('wid', 1), ('psp', 1), ('ta', 1), ('weather', 1), ('wit', 1), ('homie', 1), ('bout', 1), ('mutha', 1), ('syte', 1), ('3:00', 1), ('hack', 1), ('shyt', 1), ('harras', 1), ('basicly', 1), ('ruin', 1), ('failure', 1), ('father', 1), ('pleasure', 1), ('derive', 1), ('hatred', 1), ('shed', 1), ('tears', 1), ('joy', 1), ('disrupt', 1), ('ring', 1), ('humor', 1), ('shootings', 1), ('happen', 1), ('innocent', 1), ('forced', 1), ('sandwiches', 1), ('disruptor', 1), ('layout', 1), ('organized', 1), ('#series', 1), ('#titleu', 1), ('airdateproduction', 1), ('code', 1), ('butts', 1), ('screw', 1), ('butthole', 1), ('krabs', 1), ('brandon', 1), ('likes', 1), ('delldos', 1), ('mouththe', 1), ('angus', 1), ('finn', 1), ('arnesson', 1), ('correcting', 1), ('eye', 1), ('centered', 1), ('listening', 1), ('lodge', 1), ('complaint', 1), ('oblivious', 1), ('pleads', 1), ('corrections', 1), ('wikipedia_talk', 1), ('manual_of_style', 1), ('dates_and_numbers', 1), ('#k_', 1), ('28or_k', 1), ('29_the_computer_kilo', 1), ('_prefix_', 1), ('_for_ancient_computers', 1), ('_not_using_bytes', 1), ('hanibal', 1), ('911you', 1), ('pro-assad', 1), ('rebels', 1), ('aleppo', 1), ('central', 1), ('prison', 1), (\"assad's\", 1), ('mother-assad.you', 1), ('eats', 1), ('assad', 1), ('gvhy', 1), ('residents', 1), (\"starlet's\", 1), ('philanthropy', 1), ('exhaust', 1), ('victims', 1), ('torture', 1), ('murder', 1), ('utterly', 1), ('revolting', 1), ('whitewash', 1), ('dimension', 1), ('akradecki', 1), ('bush', 1), ('billcj', 1), ('bzuk', 1), ('fo', 1), ('backs', 1), ('organising', 1), ('apersonal', 1), ('complaining', 1), ('deliberately', 1), ('negative', 1), ('consensuses', 1), ('repetative', 1), ('inserts', 1), ('environmental', 1), ('erroneously', 1), ('contines', 1), ('defences', 1), ('eurocentric', 1), ('essentially', 1), ('racialist', 1), ('essence', 1), ('answering', 1), ('wasz', 1), ('gon', 1), ('dhis', 1), ('logged', 1), ('wat', 1), ('sed', 1), ('tho', 1), ('neva', 1), ('ll', 1), ('numba', 1), ('thur', 1), ('bighead', 1), ('sarekofvulcan', 1), ('confidence', 1), ('misplaced', 1), ('opposed', 1), ('adjust', 1), ('accordingly', 1), ('bro', 1), ('fagplease', 1), ('71.100', 1), ('31.227', 1), ('gayreeks', 1), ('nicely', 1), ('executed', 1), ('mates', 1), ('empires', 1), ('extent', 1), ('comapre', 1), ('19.9', 1), ('17', 1), ('roman', 1), ('territories', 1), ('5.9', 1), ('furthermore', 1), ('visited', 1), (\"ragib's\", 1), ('ragib', 1), ('bangladesh', 1), ('similarly', 1), ('parochial', 1), ('chauvinist', 1), ('un-necessary', 1), ('snubbed', 1), ('cumans', 1), ('kipchaks', 1), ('late', 1), ('tatars', 1), ('cossack', 1), ('adventurer', 1), ('turkish', 1), ('turkic', 1), ('origins', 1), ('cossacks', 1), ('tribal', 1), ('race', 1), ('suxk', 1), ('sssss', 1), ('prejudicial', 1), ('industry', 1), ('reset', 1), ('modem', 1), ('sexless', 1), ('desperate', 1), ('society', 1), ('lower', 1), ('ill', 1), ('pizza', 1), ('bertie', 1), ('talents', 1), ('helps', 1), ('advance', 1), ('agreed', 1), ('deprived', 1), ('sterile', 1), ('sake', 1), ('generations', 1), ('detracts', 1), ('hinders', 1), ('betterment', 1), ('vision', 1), ('intelligence', 1), ('regrettably', 1), ('extended', 1), ('remembered', 1), ('deserving', 1), ('amateurs', 1), ('dannyg', 1), ('3332', 1), ('27', 1), ('nov', 1), ('cory', 1), ('adams', 1), ('telenet', 1), ('uncovers', 1), ('superman', 1), ('homepage', 1), ('continuity', 1), ('mixture', 1), ('dealing', 1), (\"superman's\", 1), ('christopher', 1), ('reeve', 1), ('lex', 1), ('rosenbaum', 1), ('gene', 1), ('hackman', 1), ('goodness', 1), ('prescription', 1), ('wicked', 1), ('linguists', 1), ('abnormal', 1), ('notion', 1), ('culpable', 1), ('decisions', 1), ('ourselves', 1), ('perverse', 1), ('deplorable', 1), ('patently', 1), ('begin', 1), ('incapable', 1), ('acquire', 1), ('instruction', 1), ('invalid', 1), ('activity', 1), ('prescriptive', 1), ('suggesting', 1), ('timidity', 1), ('laziness', 1), ('irresponsibility', 1), ('dedicated', 1), ('proficiency', 1), ('composition', 1), ('nor', 1), ('wikieditor', 1), ('006', 1), ('ale_jrb', 1), ('vendetta', 1), ('intend', 1), ('higher-ups', 1), ('abusing', 1), ('unless', 1), ('immediately', 1), ('-67.173', 1), ('77.52', 1), ('spilling', 1), ('dying', 1), ('deaths', 1), ('unc', 1), (\"who're\", 1), ('advantageous', 1), ('bigger', 1), ('noisy', 1), ('crowd', 1), ('brainwashed', 1), ('chauvinistic', 1), ('fanatic', 1), ('naturally', 1), ('admitting', 1), ('circulated', 1), ('messages', 1), ('chiense', 1), ('repeating', 1), ('thousand', 1), ('perfect', 1), ('eyesights', 1), ('consciousness', 1), ('difference', 1), ('naive', 1), ('complicated', 1), ('buried', 1), ('takes', 1), ('memory', 1), ('consideration', 1), ('tables', 1), ('markup', 1), ('ah-oh', 1), ('ho', 1), ('moderately', 1), ('fast', 1), ('sine', 1), ('cosine', 1), ('tangent', 1), ('cotangent', 1), ('secant', 1), ('cosecant', 1), ('soa-cah-toa', 1), ('memorize', 1), ('inverses', 1), ('tongue', 1), ('twister', 1), ('memorable', 1), ('+', 1), (\"today's\", 1), ('soh', 1), ('cah', 1), ('toa', 1), ('mindedness', 1), ('unsubstantiated', 1), ('poorly', 1), ('documented', 1), ('editorialize', 1), ('hide', 1), ('spin', 1), ('damaging', 1), ('speculated', 1), ('partisan', 1), ('acted', 1), ('proven', 1), ('violation', 1), ('established', 1), ('blp', 1), ('blpstyle', 1), ('atricle', 1), ('regurgitation', 1), ('dump', 1), ('junk', 1), ('closing', 1), ('leader', 1), ('tabloid', 1), ('wales', 1), ('aloud', 1), ('painting', 1), ('herself', 1), ('70.26', 1), ('72.221', 1), ('expecting', 1), ('lords', 1), ('choices', 1), ('dishonore', 1), ('ou', 1), ('choice', 1), ('suitable', 1), ('heart', 1), ('uw', 1), ('dawgs', 1), ('oregon', 1), ('beating', 1), ('crushed', 1), ('ashamed', 1), ('butthurt', 1), ('calm', 1), ('sucking', 1), ('patrick', 1), ('tommy', 1), ('adolf', 1), ('nose', 1), ('affairs', 1), ('concern', 1), ('wannabe', 1), ('screen', 1), ('asshat', 1), ('clownshoes', 1), ('twit', 1), ('clowns', 1), ('feeble', 1), ('1000', 1), ('reactions', 1), ('commander', 1), ('occupation', 1), ('sooner', 1), ('noticeboards', 1), (\"we'd\", 1), ('annoying', 1), ('song', 1), ('posting', 1), ('antidiskriminator', 1), ('new-found', 1), ('ally', 1), ('oppose', 1), ('agreed-upon', 1), ('effective', 1), ('complex', 1), ('thoroughly', 1), ('bogged-down', 1), ('on-the-fly', 1), ('drowned', 1), ('far-more-knowledgeable', 1), ('retorts', 1), ('long-time', 1), ('participants', 1), ('experimenting', 1), ('tests', 1), ('✍', 1), ('commented', 1), ('#more', 1), ('fuckwit', 1), ('expression', 1), ('rant', 1), ('ridicilous', 1), ('proves', 1), ('bags', 1), (\"should've\", 1), ('bombed', 1), ('wwii', 1), ('jim', 1), ('sending', 1), ('bestest', 1), ('buddy', 1), ('sidenote', 1), ('xizer', 1), ('dan', 1), ('footing', 1), ('abstract', 1), ('summarizing', 1), ('substance', 1), ('relations', 1), ('youths', 1), ('satisfying', 1), ('requirements', 1), ('prehistory', 1), ('basing', 1), ('historians', 1), ('suppositions', 1), ('practices', 1), ('prehistoric', 1), ('precedent', 1), ('tenuous', 1), ('pederasty', 1), ('worthless', 1), ('cocksucking', 1), ('successfully', 1), ('preaching', 1), ('choir', 1), ('ntv', 1), ('gag', 1), ('tempting', 1), ('eh', 1), ('illustration', 1), ('shabby-russian-village-population-five', 1), ('yo', 1), ('19', 1), ('21:47', 1), ('rose', 1), ('librarian', 1), ('bloody', 1), ('categories', 1), ('devil', 1), ('cultist', 1), ('mofo', 1), ('martin', 1), ('muljana', 1), ('transwikied', 1), ('driver', 1), ('construction', 1), ('phase', 1), ('carson', 1), ('freeway', 1), ('analogous', 1), ('430', 1), ('damonte', 1), ('ranch', 1), ('meadows', 1), ('neil', 1), ('road', 1), ('virginia', 1), ('interchanges', 1), ('notes', 1), ('illiterate', 1), ('inability', 1), ('satisfy', 1), ('headline', 1), ('lover', 1), ('motha', 1), ('fucka', 1), ('yr', 1), ('viewing', 1), ('outdated', 1), ('affiliation', 1), ('located', 1), ('http://en.wikipedia.org/wiki/', 1), ('sylvester', 1), ('terkay', 1), ('elijah', 1), ('burke', 1), ('theyre', 1), ('promo', 1), ('khali', 1), ('bodyguard', 1), ('daivari', 1), ('wrestled', 1), ('idk', 1), ('isnt', 1), ('marty', 1), ('brand', 1), ('hes', 1), ('inactive', 1), ('untrue', 1), ('ties', 1), ('overweight', 1), ('angel', 1), ('williams', 1), ('gymini', 1), ('dark', 1), ('sd', 1), ('lastly', 1), ('shouldnt', 1), ('raw', 1), ('cyber', 1), ('develop', 1), ('storyline', 1), ('screwed', 1), ('chris', 1), ('purposes', 1), ('eternals', 1), ('deviants', 1), ('inhumans', 1), ('races', 1), ('interbreed', 1), ('humans', 1), ('unmanageable', 1), ('biaatch', 1), ('posers', 1), ('statistics', 1), ('1.0', 1), ('pittsburgh', 1), ('usbecause', 1), ('kn', 1), ('delinking', 1), ('adminster', 1), ('quadell', 1), ('ambi', 1), ('vsmith', 1), ('feels', 1), ('adhered', 1), ('advocating', 1), ('ncdave', 1), ('17:53', 1), ('dominican', 1), ('proportion', 1), ('blacks', 1), ('hispanic', 1), ('one-drop', 1), ('blind', 1), ('bats', 1), ('rely', 1), ('russian', 1), ('dumm', 1), ('rabbits', 1), ('hike', 1), ('123', 1), ('teawiki', 1), ('www.tea.wikia.org', 1), ('transferring', 1), ('baggage', 1), ('theatre', 1), ('opera', 1), ('ballet', 1), ('criminial', 1), ('loose', 1), ('l', 1), ('downtown', 1), ('preach', 1), ('kenny', 1), ('jfd', 1), ('skies', 1), ('complain', 1), ('atrosity', 1), ('tay', 1), ('evaluate', 1), ('74.56', 1), ('51.128', 1), ('dpak', 1), ('dsuza', 1), ('offend', 1), ('martial', 1), ('earth', 1), ('permanently', 1), ('farce', 1), ('objective', 1), ('knol', 1), ('horizon', 1), ('replacement', 1), ('mask', 1), ('npov', 1), ('opposing', 1), ('permanent', 1), ('yourwarning', 1), ('shake', 1), ('salt', 1), ('shove', 1), ('pipe', 1), ('agarwals', 1), ('dravidian', 1), ('atr', 1), ('dogs', 1), ('inaccuracies', 1), ('117.211', 1), ('90.154', 1), ('teadrinker', 1), ('nickname', 1), ('e-dog', 1), ('13500', 1), ('cato', 1), ('19,000', 1), ('35000', 1), ('19000', 1), ('50,000', 1), ('refrained', 1), ('pressure', 1), ('fits', 1), ('applies', 1), ('abstain', 1), ('understandable', 1), ('justice', 1), ('seeker', 1), ('vindicate', 1), ('unfair', 1), ('moon', 1), ('minding', 1), ('okay', 1), ('mei', 1), ('konw', 1), ('vanity', 1), ('pissed', 1), ('rebutted', 1), ('initiated', 1), (\"palmer's\", 1), ('vandalizedhans-hermann', 1), ('hoppe', 1), ('lew', 1), ('rockwell', 1), ('racism', 1), ('ensuing', 1), ('qualify', 1), ('wikinerds', 1), ('dishonestly', 1), ('anonymously', 1), ('meatpuppet', 1), ('hidden', 1), ('rolling', 1), ('ot', 1), ('voters', 1), ('evaluation', 1), ('aplication', 1), ('leads', 1), ('peopel', 1), ('13000', 1), ('blame', 1), ('monitoring', 1), ('nom', 1), ('lsi', 1), ('invited', 1), ('rfar', 1), ('substantiate', 1), ('adequate', 1), ('burden', 1), ('rests', 1), ('squarely', 1), ('yep', 1), ('ww', 1), ('past', 1), ('uploading', 1), ('photos', 1), ('technical', 1), ('calabe', 1), ('record', 1), ('pursued', 1), ('originator', 1), ('defended', 1), ('occasions', 1), ('jack', 1), ('forbes', 1), ('deacon', 1), ('pndapetzim', 1), ('folks', 1), ('abuses', 1), ('pursuing', 1), ('defence', 1), ('footbal', 1), ('football', 1), ('rangers', 1), ('presenting', 1), ('burn', 1), ('ruddy', 1), ('liberal', 1), ('moore', 1), ('truthful', 1), ('tits', 1), ('snatch', 1), ('sexuality', 1), ('mabye', 1), ('partner', 1), ('pop', 1), ('aaron', 1), ('brennenman', 1), ('sincerly', 1), ('sentiment', 1), ('fagget', 1), ('58.8', 1), ('18.35', 1), ('holdwater', 1), ('wife', 1), ('unsatisfied', 1), ('cont', 1), ('nasty', 1), ('232.75', 1), ('relentless', 1), ('persecution', 1), ('quiet', 1), ('currant', 1), ('226.121', 1), ('lowlife', 1), ('resurected', 1), ('wikzilla', 1), ('98.162', 1), ('163.72', 1), ('perezhilton', 1), ('sucker', 1), ('05:35', 1), ('glen', 1), ('jacobs', 1), ('05:22', 1), ('jonathan', 1), ('coachman', 1), ('05:20', 1), ('05:19', 1), ('05:17', 1), ('d-generation', 1), ('18:29', 1), ('hank', 1), ('15:09', 1), ('14:56', 1), ('stone', 1), ('cold', 1), ('steve', 1), ('austin', 1), ('finishing', 1), ('signature', 1), ('moves', 1), ('14:54', 1), ('championship', 1), ('wrestling', 1), ('10:15', 1), ('10:14', 1), ('10:11', 1), ('10:10', 1), ('fishman', 1), ('10:08', 1), ('10:06', 1), ('10:01', 1), ('10:00', 1), ('09:59', 1), ('09:57', 1), ('hitting', 1), ('rey.jpg', 1), ('http://www.wwe.com/shows/thegreatamericanbash/photos/', 1), (\"chavo's\", 1), ('heel', 1), ('turn', 1), ('rey', 1), ('06:25', 1), ('06:23', 1), ('06:22', 1), ('garage', 1), ('06:20', 1), ('highway', 1), ('377', 1), ('06:19', 1), ('06:17', 1), ('06:16', 1), ('06:15', 1), ('06:11', 1), ('liveloud', 1), ('jpg', 1), ('dustind', 1), ('06:08', 1), ('06:07', 1), ('06:06', 1), ('hy', 1), ('proxies', 1), ('kerala', 1), ('kerala-importance', 1), ('assess-date', 1), ('dependent', 1), ('victor', 1), ('crown', 1), ('prince', 1), ('golden', 1), ('stylist', 1), ('batsman', 1), ('1890-1920', 1), ('giants', 1), ('wisden', 1), ('inuaugural', 1), ('inductee', 1), ('achof', 1), ('105', 1), ('mahendra', 1), ('singh', 1), ('captain', 1), ('30th', 1), ('batting', 1), ('criticised', 1), ('regualrly', 1), ('unforced', 1), ('ball-catching', 1), ('170', 1), ('tournament', 1), ('200', 1), ('calendar', 1), ('poll', 1), ('unacceptable', 1), ('editted', 1), ('containing', 1), ('vague', 1), ('pronoun', 1), ('unrelated', 1), ('blog', 1), ('unfarily', 1), ('riding', 1), ('sane', 1), ('attest', 1), ('narrow-minded', 1), ('puts', 1), ('ridicules', 1), ('leash', 1), ('socialist', 1), ('climatology', 1), ('conversion', 1), ('spewed', 1), ('yes-men', 1), ('scientists', 1), ('ipcc', 1), ('shagger', 1), ('brutal', 1), ('demonstrating', 1), ('civilization', 1), (\"auburnpilot's\", 1), ('wikisophistry', 1), ('strategem', 1), ('censoring', 1), ('dislikes', 1), ('croke', 1), ('park', 1), ('gaa', 1), ('arena', 1), ('falls', 1), ('cat', 1), ('ariva', 1), ('achieve', 1), ('undo', 1), ('jackass', 1), ('absolute', 1), ('convince', 1), ('dilweed', 1), ('jackoff', 1), ('incorporated', 1), ('silhouette', 1), ('gothic', 1), ('niederlandish', 1), ('art', 1), ('botticelli', 1), ('italian', 1), ('renaissance', 1), ('classical', 1), ('fashion', 1), ('10:29', 1), ('dunning-kruger', 1), ('treating', 1), ('guoguo', 1), ('12', 1), ('talkback', 1), ('tdawg', 1), ('4701', 1), ('shahid', 1), ('cleanup.he', 1), ('preity', 1), ('zinta', 1), ('building', 1), ('chopra', 1), ('expanded.he', 1), ('writer.when', 1), ('sectiond', 1), ('humanitarian', 1), ('notably', 1), ('refrence', 1), ('always.according', 1), ('musicians', 1), ('edits.also', 1), ('songs', 1), ('songwriter', 1), ('again.that', 1), ('leading', 1), ('abuse.you', 1), ('shoul', 1), ('expand', 1), ('bold', 1), ('legs', 1), ('play-off', 1), ('semi-final', 1), ('premiership', 1), ('semi', 1), ('dreamguy', 1), ('irwolfie', 1), ('amounts', 1), ('unaware', 1), ('arbcom', 1), ('discretionary', 1), ('sanctions', 1), ('peremptory', 1), ('controversial', 1), ('confrontational', 1), ('self-reverting', 1), ('mediation', 1), ('reviews', 1), ('objection', 1), ('fancruft', 1), ('careful', 1), ('minute', 1), ('contain', 1), ('smuggling', 1), ('condoms', 1), ('seran', 1), ('wrap', 1), ('size', 1), ('pre-amalgamation', 1), ('hamilton', 1), ('toronto', 1), ('24.36', 1), ('54.238', 1), ('eisenhower', 1), ('bum', 1), ('golf', 1), ('constantly', 1), ('nixon', 1), ('ran', 1), ('historic', 1), ('basics', 1), ('pronounce', 1), ('literaly', 1), ('litrally', 1), ('chic', 1), ('crackpots', 1), ('luckiest', 1), ('nhl', 1), ('extensive', 1), ('linguistics', 1), ('compounds', 1), ('phrases', 1), ('concept', 1), ('compounding', 1), ('merging', 1), ('lexeme', 1), ('lexemes', 1), ('spaces', 1), ('item', 1), ('proved', 1), ('scope', 1), ('nah', 1), ('beach', 1), ('pier', 1), ('cetaceans', 1), ('shore', 1), ('earn', 1), ('blundering', 1), ('boat', 1), ('goals', 1), ('domestic', 1), ('league', 1), ('scored', 1), ('friendly', 1), ('mexican', 1), ('mexicans', 1), ('departed', 1), ('nerd', 1), ('precise', 1), ('forever', 1), ('douchebag', 1), ('adam', 1), ('carr', 1), ('longhair', 1), ('politically', 1), ('commies', 1), ('lefties', 1), ('righties', 1), ('pricks', 1), ('wikiepdians', 1), ('kelly', 1), ('e-life', 1), ('wolfkeeper', 1), ('evident', 1), ('conclude', 1), ('oath', 1), ('corroborate', 1), ('captured', 1), ('lends', 1), ('rs', 1), ('haven', 1), ('dug', 1), ('outlets', 1), ('assured', 1), ('recognize', 1), ('compliant', 1), ('accord', 1), ('debating', 1), ('hahaahahahahahahaha', 1), ('vandalise', 1), ('enthusiastic', 1), ('hugs', 1), ('dinner', 1), ('shared', 1), ('local', 1), ('restaurant', 1), ('comfort', 1), ('attraction', 1), ('undeniable', 1), ('returned', 1), ('cozy', 1), ('semi-secluded', 1), ('suburbs', 1), ('sipping', 1), ('tales', 1), ('exceptions', 1), ('tight-knit', 1), ('friends-with-benefits', 1), ('sharing', 1), ('drink', 1), ('roommates', 1), ('dorm', 1), ('quad', 1), ('much-welcomed', 1), ('guests', 1), ('fortunately', 1), ('hectic', 1), ('schedules', 1), ('sip', 1), ('linger', 1), ('sun', 1), ('glow', 1), (\"justine's\", 1), ('lighter', 1), ('shade', 1), ('shoulder-length', 1), ('brown', 1), ('make-up', 1), ('gloss', 1), ('lips', 1), ('enticing', 1), ('strawberry', 1), ('flavor', 1), ('discovered', 1), ('evening', 1), ('fingernails', 1), ('elegant', 1), ('plunging', 1), ('sequined', 1), ('neckline', 1), ('permitted', 1), ('cleavage', 1), ('slit', 1), ('skirt', 1), ('revealed', 1), ('wearing', 1), ('garter', 1), ('belt', 1), ('descending', 1), ('straps', 1), ('noticeable', 1), ('well-toned', 1), ('thigh', 1), ('attract', 1), ('surprisingly', 1), ('hoop', 1), ('ears', 1), ('widen', 1), ('piercing', 1), ('holes', 1), ('safe', 1), ('turned', 1), ('toward', 1), ('opportunity', 1), ('impressed', 1), ('noticeably', 1), ('shorter', 1), ('paler', 1), ('complexion', 1), ('testament', 1), ('preferred', 1), ('outfits', 1), ('somewhat-tight', 1), ('sweater', 1), ('form-fitting', 1), ('slacks', 1), ('adorned', 1), ('bore', 1), ('sparkling', 1), ('stud', 1), ('nostril', 1), (\"beth's\", 1), ('flowed', 1), ('twirled', 1), ('strands', 1), ('listened', 1), ('relationships', 1), ('graduating', 1), ('thankful', 1), ('invite', 1), ('chatter', 1), ('sit', 1), ('admire', 1), ('stunning', 1), ('beauties', 1), ('perched', 1), ('sofa', 1), ('began', 1), ('covers', 1), ('feminine', 1), ('resting', 1), ('softly', 1), ('shoulder', 1), ('arm', 1), ('stroked', 1), ('chest', 1), ('dipped', 1), ('navel', 1), ('brushed', 1), ('thighs', 1), ('sweatpants', 1), ('typically', 1), ('caressed', 1), ('stiffening', 1), ('manhood', 1), ('closed', 1), ('reveled', 1), ('inherently', 1), ('rediscovery', 1), ('lengthy', 1), ('passage', 1), ('hands', 1), ('occasionally', 1), ('smiled', 1), ('darkness', 1), ('enjoyed', 1), ('encounters', 1), ('slowed', 1), ('ceased', 1), ('breathing', 1), ('falling', 1), ('regularity', 1), ('sleep', 1), ('stayed', 1), ('awake', 1), ('enjoying', 1), ('closeness', 1), ('awoke', 1), ('scent', 1), ('roast', 1), ('coffee', 1), ('faint', 1), ('unmistakable', 1), ('brewed', 1), ('nectar', 1), ('sh', 1), ('stub', 1), ('tankmen', 1), ('armoured', 1), ('troops', 1), ('2005-12-', 1), ('17:34', 1), (\"user's\", 1), ('csds', 1), ('accidental', 1), ('reinstate', 1), ('unsourced', 1), ('intentions', 1), ('temperarily', 1), ('blanking', 1), ('send', 1), ('timeslot', 1), ('hopping', 1), (\"wpbs's\", 1), ('notorious', 1), ('habit', 1), ('shifting', 1), ('timeslots', 1), ('programs', 1), (\"they've\", 1), (\"blake's\", 1), ('dwarf', 1), (\"liberty's\", 1), ('viewers', 1), ('76.235', 1), ('235.223', 1), ('sooooooooooooo', 1), ('haz', 1), ('dcandeto', 1), ('smells', 1), ('90', 1), ('broken', 1), ('masturbator', 1), ('onanizing', 1), ('brainsick', 1), ('spread', 1), ('freaky', 1), ('importand', 1), ('stealing', 1), ('pollute', 1), (\"obama's\", 1), ('snot', 1), ('33', 1), ('creations', 1), ('17:33', 1), ('wow', 1), ('aliases', 1), ('twice', 1), ('daymee', 1), ('friend', 1), ('bothering', 1), ('b', 1), ('username', 1), ('70.127', 1), ('205.121', 1), ('pc', 1), ('ref', 1), ('}:', 1), ('conclusion', 1), (\"dude's\", 1), ('pimp', 1), ('chair', 1), ('exudes', 1), ('pimpocity', 1), ('contacting', 1), ('substantive', 1), ('abject', 1), ('picture', 1), ('https://www.cia.gov/library/publications/the-world-factbook/geos/in.html', 1), ('gogh', 1), (\"cent's\", 1), ('f', 1), ('yeeaaaaahh', 1), ('fighters', 1), ('constitute', 1), ('yank', 1), ('modification', 1), ('win', 1), ('173.76', 1), ('119.10', 1), ('arranged', 1), ('timothy', 1), ('president', 1), ('ny', 1), ('nyc', 1), ('newspapers', 1), ('40', 1), ('billion', 1), ('res', 1), ('timonthy', 1), ('bernake', 1), ('100s', 1), ('billions', 1), ('mortgage', 1), ('trillions', 1), ('derivatives', 1), (\"aig's\", 1), ('credited', 1), ('saving', 1), ('reversed', 1), ('gietner', 1), ('depth', 1), ('dictate', 1), ('systemic', 1), ('risk', 1), ('shown', 1), ('determine', 1), ('harvey', 1), ('keitel', 1), ('markit', 1), ('bon', 1), ('vivant', 1), ('touted', 1), ('via', 1), ('fighting', 1), ('spike', 1), ('prices', 1), ('meltdown', 1), ('studies', 1), ('ioq', 1), ('ix', 1), ('demonizing', 1), ('bubble', 1), ('greenspan', 1), ('mortgages', 1), ('fannie', 1), ('mae', 1), ('debacle', 1), ('beginning', 1), ('projected', 1), ('inflation', 1), ('spikes', 1), ('massively', 1), ('slammed', 1), ('perking', 1), ('debaclev', 1), ('trillion', 1), ('jaw', 1), ('boning', 1), ('funds', 1), ('coup', 1), ('grace', 1), ('consumers', 1), ('hugely', 1), ('obama', 1), ('mouthed', 1), ('aided', 1), ('consumer', 1), ('congres', 1), ('pundits', 1), ('population', 1), (\"street's\", 1), ('gambling', 1), ('distortion', 1), ('features', 1), ('oversight', 1), ('protecting', 1), ('engine', 1), ('growth', 1), ('distribution', 1), ('mouthing', 1), ('heads', 1), ('cnn', 1), ('cnbc', 1), ('severely', 1), ('dominance', 1), ('leadership', 1), ('prosecute', 1), ('selling', 1), ('firms', 1), ('banks', 1), ('increasing', 1), ('crecend', 1), ('stripped', 1), ('bones', 1), ('apparent', 1), ('elias', 1), ('temporarily', 1), ('label', 1), ('blogs', 1), ('flexibility', 1), ('filled', 1), ('puff', 1), ('cushion', 1), ('management', 1), ('closet', 1), (\"everyone's\", 1), ('miserable', 1), ('2k15', 1), ('confirmed', 1), ('bugging', 1), ('threat', 1), ('annoyed', 1), ('kidding', 1), ('elliott', 1), ('gorn', 1), ('2001', 1), ('isbn', 1), ('0-8090-', 1), ('7094-4', 1), ('describing', 1), ('offended', 1), ('relished', 1), ('improper', 1), ('mistaken', 1), ('perception', 1), ('supporter', 1), ('raymond', 1), ('cambefort', 1), ('gainsay', 1), ('soldier', 1), ('vet', 1), ('cuz', 1), ('funeral', 1), ('sincerily', 1), ('taste', 1), ('disadvantages', 1), ('contains', 1), ('duplicate', 1), ('appealing', 1), ('fills', 1), ('breaks', 1), ('surprised', 1), ('real-time', 1), ('reconstructed', 1), ('charlotte', 1), ('benkner', 1), ('older', 1), ('technically', 1), ('redundancy', 1), ('visually', 1), ('yakłtalk', 1), ('tome', 1), ('empty', 1), ('thoughtlessness', 1), ('theoretical', 1), ('retroactive', 1), ('two-liner', 1), ('whereas', 1), ('consideirng', 1), ('horace', 1), ('wass', 1), ('athanasiou', 1), ('diakou', 1), ('sv', 1), ('sjömarken', 1), ('pictures', 1), ('average', 1), ('utilitarianism', 1), ('replace', 1), ('evergreenfir', 1), ('transform', 1), ('muahahaha', 1), ('scientifics', 1), ('graded', 1), ('debunker', 1), ('debunk', 1), ('http://www.sptimes.com/floridian/41498/the__quack__hunter.html', 1), ('amazing', 1), ('skepticism', 1), ('h2g2bob', 1), ('12/13', 1), ('non-life', 1), ('geek', 1), ('talkng', 1), ('trust', 1), ('skills', 1), ('personality', 1), ('intellectual', 1), ('abilities', 1), ('flummery', 1), ('enlist', 1), ('skill', 1), ('randi', 1), ('expertise', 1), ('scientifc', 1), ('kings', 1), ('pitious', 1), ('scietific', 1), ('vs', 1), ('non-scientific', 1), ('methods', 1), ('explains', 1), ('psychics', 1), ('fakers', 1), ('challenge', 1), ('minus', 1), ('inferred', 1), ('guessing', 1), ('degree', 1), ('attended', 1), ('demonstrates', 1), ('attacking', 1), ('poseidon', 1), ('perseus', 1), ('myth', 1), ('herakles', 1), ('slew', 1), ('prize', 1), ('led', 1), ('sons', 1), ('aeacus', 1), ('trojan', 1), ('anti-russian', 1), ('mud', 1), ('whats', 1), ('lgbt', 1), ('tiderolls', 1), ('phage', 1), ('desperately', 1), ('files', 1), ('breach', 1), ('apologised', 1), ('refusing', 1), ('acknowledge', 1), ('acknowledgement', 1), ('irrelevant', 1), ('generic', 1), ('correspondents', 1), ('del', 1), ('trabajo', 1), ('albanian', 1), ('parties', 1), ('identical', 1), ('launched', 1), ('x-country', 1), ('laborista', 1), ('customisable', 1), ('steel', 1), ('poured', 1), ('bolton', 1), ('steelworks', 1), ('girder', 1), ('reaches', 1), ('characters', 1), ('realisation', 1), ('86.173', 1), ('169.144', 1), ('drunk', 1), ('sock-puppet', 1), ('infamous', 1), ('pé', 1), ('chinelo', 1), ('soulless', 1), ('paul', 1), ('gamergate', 1), ('proposed', 1), ('22', 1), ('sometimes', 1), ('dozens', 1), ('retiring', 1), ('arbitrators', 1), ('chance', 1), ('bound', 1), ('wade', 1), ('morass', 1), ('allways', 1), ('wind', 1), ('hill', 1), ('ect', 1), ('actualy', 1), ('laara', 1), ('lick', 1), ('pussy', 1), ('bih', 1), ('stoped', 1), ('slovenia', 1), ('otrs', 1), ('ticket', 1), ('2009051010', 1), ('000428', 1), ('boze', 1), ('hadleigh', 1), ('monkeyzpop', 1), ('questioning', 1), ('illuminate', 1), ('http://en.wikipedia.org/wiki/talk:boze_hadleigh', 1), ('eternal', 1), ('pink', 1), ('named', 1), ('evreryone', 1), ('rubbish', 1), ('finish', 1), ('adamant', 1), ('hasnains', 1), ('arrested', 1), ('traced', 1), ('mercury', 1), ('pakistan', 1), ('beauty', 1), ('pageant', 1), ('non-reliable', 1), ('secure', 1), ('defaming', 1), ('rumour', 1), ('dismissed', 1), ('defame', 1), ('labelled', 1), ('rumours', 1), ('sonisona', 1), ('gustave', 1), ('denigrates', 1), ('researchers', 1), ('negativity', 1), ('appearance', 1), ('hens', 1), ('wright', 1), ('enthusiasts', 1), ('controlling', 1), ('non-neutral', 1), ('dislike', 1), ('television', 1), ('ct', 1), ('legislature', 1), ('flight', 1), (\"jane's\", 1), ('bible', 1), ('aviation', 1), ('determined', 1), ('open-minded', 1), ('cult', 1), ('anothor', 1), ('tv', 1), ('specializes', 1), ('historical', 1), ('documentaries', 1), ('mobbing', 1), ('mob', 1), ('bitter', 1), ('connection', 1), ('legend', 1), ('introducing', 1), ('contest', 1), ('db', 1), ('coupled', 1), ('criterion', 1), ('delay', 1), ('hesitate', 1), ('render', 1), ('conformance', 1), ('lomobile', 1), ('dope', 1), ('vandalising', 1), ('tough', 1), ('criticizing', 1), ('mom', 1), ('reads', 1), ('intensely', 1), ('pruritic', 1), ('papulonodular', 1), ('eruption', 1), ('orientation', 1), ('desease', 1), ('enforce', 1), ('stereotype', 1), ('stds', 1), ('88.217', 1), ('49.147', 1), ('terrorist', 1), ('democrats', 1), ('elonka', 1), ('cocks', 1), ('standardization', 1), ('nz', 1), ('missile', 1), ('propulsive', 1), ('energy', 1), ('launch', 1), ('ar', 1), ('310-25', 1), ('speaking', 1), ('placement', 1), ('gallo-italic', 1), ('italo-dalmatian', 1), ('hahahahahaha', 1), ('mwahahahahaha', 1), ('herbine', 1), ('arkansas', 1), ('assessed', 1), ('stub-class', 1), ('grading', 1), ('registering', 1), (\"reviewer's\", 1), ('organ', 1), ('meat', 1), ('tasty', 1), ('salted', 1), ('wegetarian', 1), ('swallow', 1), ('gratify', 1), ('consume', 1), ('curry', 1), ('scented', 1), ('plan', 1), ('bending', 1), ('grafting', 1), ('shoots', 1), ('unusual', 1), ('designs', 1), ('rape', 1), ('naconkantari', 1), ('rapists', 1), ('finder', 1), ('anonymous', 1), ('everybody', 1), ('hip-hop', 1), ('mc', 1), ('lyte', 1), ('emcees', 1), ('female', 1), ('emcee', 1), ('undisputed', 1), ('tomstar', 1), ('81', 1), ('staff', 1), ('courageous', 1), ('forthright', 1), ('exemplary', 1), ('reconition', 1), ('honoured', 1), ('traditions', 1), ('dictators', 1), ('mass', 1), ('forehead', 1), ('diligent', 1), ('factual', 1), ('keen', 1), ('newcomers', 1), ('fend', 1), ('rerasons', 1), ('calibre', 1), ('sanshonest', 1), ('leaders', 1), ('aligned', 1), ('disagree', 1), ('rewriting', 1), ('lord', 1), ('jane', 1), ('poshname', 1), ('maj', 1), ('bellamy', 1), ('hunk', 1), ('controversy', 1), ('circular', 1), ('crazy', 1), ('communications', 1), ('disagreed', 1), ('disagreement', 1), ('ockels', 1), ('astronaut', 1), ('prgram', 1), ('lodewijk', 1), ('den', 1), ('berg', 1), ('ñ', 1), ('ç', 1), ('learns', 1), ('piñata', 1), ('façade', 1), ('pronounced', 1), ('ʻokina', 1), ('learnt', 1), ('unfamiliar', 1), ('therewith', 1), ('borrowed', 1), ('function', 1), ('aid', 1), (\"mi'kmaq\", 1), ('hieroglyphic', 1), ('majority', 1), ('homeland', 1), ('ravaged', 1), ('benefit', 1), ('british', 1), ('courts', 1), ('unconstitutional', 1), ('becuase', 1), ('disriminates', 1), ('bodhidarama', 1), ('forgotten', 1), ('outsiders', 1), ('பட', 1), ('யல', 1), ('வர', 1), ('எனவ', 1), ('எ', 1), ('ீ', 1), ('வல', 1), ('தளம', 1), ('ஒர', 1), ('என', 1), ('கண', 1), ('உதவ', 1), ('ழர', 1), ('எங', 1), ('மறக', 1), ('டம', 1), ('றக', 1), ('இர', 1), ('நம', 1), ('எந', 1), ('ள', 1), ('மறந', 1), ('நன', 1), ('observe', 1), ('terminology', 1), ('maximum', 1), ('elelctric', 1), ('peak', 1), ('electric', 1), ('vary', 1), ('jamais', 1), ('fomos', 1), ('modernos', 1), ('december', 1), ('ken', 1), ('vandermark', 1), ('concert', 1), ('santander', 1), ('brazil', 1), ('featuring', 1), ('bode', 1), ('eleven', 1), ('ambient', 1), ('electronics', 1), ('institutions', 1), ('releasing', 1), ('netlabels', 1), ('distros', 1), ('drummer', 1), ('styles', 1), ('focus', 1), ('bass', 1), ('trio', 1), ('punk', 1), ('rock', 1), ('diego', 1), ('solo', 1), ('clarinet', 1), ('audience', 1), ('freely', 1), ('improvised', 1), ('structured', 1), ('improvisation', 1), ('homonymous', 1), ('antropology', 1), ('essay', 1), ('latour', 1), ('instruments', 1), ('flutes', 1), ('whistles', 1), ('harmonicas', 1), ('kazoos', 1), ('percussion', 1), ('aleatory', 1), ('intuitive', 1), ('session', 1), ('offers', 1), ('mats', 1), ('gustafsson', 1), ('15th', 1), ('distributed', 1), ('aficionados', 1), ('mold', 1), ('butt', 1), ('insistent', 1), ('uhhhh', 1), ('touch', 1), ('ancient', 1), ('crock', 1), ('dictionary', 1), ('infancy', 1), ('puberty', 1), ('remotely', 1), ('salacious', 1), ('adults', 1), ('describe', 1), ('problematical', 1), ('ultimate', 1), ('legally', 1), ('define', 1), ('minors', 1), ('babies', 1), ('raped', 1), ('judith', 1), (\"reisman's\", 1), (\"ashcroft's\", 1), ('david', 1), (\"finkelhor's\", 1), ('semantic', 1), ('employed', 1), ('disqualification', 1), ('holding', 1), ('perspective', 1), ('perpetuating', 1), ('pseudo-science', 1), ('flim-flam', 1), ('20:10', 1), ('shot', 1), ('glorious', 1), ('motherfucking', 1), ('lets', 1), ('antiheros', 1), ('accolades', 1), ('brainless', 1), ('hypocritical', 1), ('marxist', 1), ('pigs', 1), ('meanie', 1), ('redoing', 1), ('teams', 1), ('springboks', 1), ('contracted', 1), ('props', 1), ('hooker', 1), ('alternate', 1), ('propsnamentsrccvc', 1), ('hookers', 1), ('footnotes', 1), ('franchise', 1), ('affiliated', 1), ('union', 1), ('slight', 1), ('variation', 1), ('developed', 1), ('simplify', 1), ('suggestions', 1), ('tidying', 1), ('highbeam', 1), ('jstor', 1), ('stoneham', 1), ('fatuorum', 1), ('unprotected', 1), ('new_anti-semitism', 1), ('#sourcing_claims_for_', 1), ('22country', 1), ('specific_incidents', 1), ('incidents', 1), ('radical', 1), ('defining', 1), ('judenhass', 1), ('emanates', 1), ('characterized', 1), ('demonization', 1), ('ethnicity', 1), (\"israel's\", 1), ('member', 1), ('self-determination', 1), ('judged', 1), ('neighboring', 1), ('collectively', 1), ('symbols', 1), ('classic', 1), ('libels', 1), ('resurrected', 1), ('wild', 1), ('conspiracy', 1), ('involving', 1), ('zionists', 1), ('israelis', 1), ('plotting', 1), ('governments', 1), ('scenes', 1), ('terror', 1), ('mistakenly', 1), ('attributed', 1), ('islamic', 1), ('excused', 1), ('straw-man', 1), ('condemn', 1), ('unreasonable', 1), ('deny', 1), ('accompanied', 1), ('resurgence', 1), ('violence', 1), ('synagogues', 1), ('schools', 1), ('conjunction', 1), ('anti-americanism', 1), ('anti-globalization', 1), ('phenomenon', 1), ('components', 1), ('allegation', 1), ('unwise', 1), ('nus', 1), ('ephemeral', 1), ('talks', 1), ('election', 1), ('disagreements', 1), ('remind', 1), ('elements', 1), ('suicides', 1), ('commit', 1), ('suicide', 1), ('katie', 1), ('lea', 1), ('68.54', 1), ('163.153', 1), ('divinity', 1), ('31', 1), ('a-hole', 1), ('nishkid', 1), ('sage', 1), ('soothing', 1), ('soemone', 1), ('75.21', 1), ('101.63', 1), ('youn', 1), ('hooray', 1), ('teahouse', 1), ('durova', 1), ('obsessed', 1), ('joa', 1), ('wich', 1), ('athough', 1), ('closely', 1), ('watched', 1), ('repeat', 1), ('federation', 1), ('nominally', 1), ('outright', 1), ('skyteam', 1), ('klm', 1), ('preempt', 1), ('crazed', 1), ('fans', 1), ('airline', 1), ('hahaha', 1), (\"that'll\", 1), ('moar', 1), ('disruption', 1), ('da', 1), ('absence', 1), ('revocation', 1), ('typing', 1), ('reiterate', 1), ('affect', 1), ('administrate', 1), ('herd', 1), ('liek', 1), ('mudkips', 1), ('log-in', 1), ('membere', 1), ('moderation', 1), ('weasel', 1), ('insted', 1), ('notify', 1), ('neutral-sounding', 1), ('14:36', 1), ('dickheads', 1), ('brought', 1), ('reject', 1), ('obnoxious', 1), ('water', 1), ('tower', 1), ('sean', 1), ('broom', 1), ('wikitan', 1), ('sticky', 1), ('pocky', 1), ('sad', 1), ('tubby', 1), ('fellow', 1), ('simpsons', 1), ('obesessives', 1), ('overpopulated', 1), ('noted', 1), ('verifiable', 1), ('feedback', 1), ('mad', 1), ('190.242', 1), ('99.226', 1), ('denial', 1), ('culture', 1), ('cheap', 1), ('moukity', 1), ('11th', 1), ('higgys', 1), ('harass', 1), ('summaries', 1), ('rescue', 1), ('heroes', 1), ('sockpuppetry', 1), ('134.153', 1), ('184.17', 1), ('pharisee', 1), ('debated', 1), ('thinkers', 1), ('brian', 1), (\"mclaren's\", 1), ('hannah', 1), ('m.g.shapero', 1), ('zoroastrianism', 1), ('lucky', 1), ('bands', 1), ('dancers', 1), ('sometime', 1), ('concur', 1), ('postscript', 1), ('kommandohimmler', 1), ('lässt', 1), ('grüßen', 1), ('nancy', 1), ('fatass', 1), ('observing', 1), ('girls', 1), ('waddle', 1), ('sexy', 1), ('recoil', 1), ('horrer', 1), ('chocolate', 1), ('dangerously', 1), ('obese', 1), ('16', 1), ('hastle', 1), ('dialogue', 1), ('galton', 1), ('watson', 1), ('#bad', 1), ('#surname', 1), ('plant', 1), ('bruce', 1), ('perens', 1), ('groklaw', 1), ('revoke', 1), ('infiltrator', 1), ('scum', 1), ('malice', 1), ('aforethought', 1), ('blast', 1), ('harmful', 1), ('erroneous', 1), ('worried', 1), ('sued', 1), ('made-up', 1), ('bs', 1), ('direct', 1), ('fortune', 1), ('defending', 1), ('capacities', 1), ('guardians', 1), ('womens', 1), ('quarters', 1), ('administrative', 1), ('existed', 1), (\"byt's\", 1), ('contributed', 1), ('confusion', 1), ('confused', 1), ('servers', 1), ('terribly', 1), ('slow', 1), ('diffs', 1), ('solved', 1), ('somehow', 1), ('mess', 1), ('salix', 1), ('alba', 1), ('mcgeddon', 1), ('legal', 1), ('libellious', 1), ('e-pill', 1), ('forcing', 1), ('dubious', 1), ('uer', 1), ('thread', 1), ('subheader', 1), ('pain', 1), ('encylopedic', 1), ('engaged', 1), ('progress', 1), ('overlinking', 1), ('whisper', 1), ('babu', 1), ('aside', 1), ('politely', 1), ('coudl', 1), ('suspected', 1), ('intervention', 1), ('consequence', 1), ('obolensky', 1), ('tried', 1), ('steal', 1), (\"consulate's\", 1), ('revolution', 1), ('tolerate', 1), ('byzantine', 1), ('fyromian', 1), ('alexandor', 1), ('makedonski', 1), ('d', 1), ('slav', 1), ('queen', 1), ('england', 1), ('rfd', 1), ('zeus', 1), ('nominated', 1), ('participate', 1), ('hammer', 1), ('finest', 1), ('99.141', 1), ('246.39', 1), ('river', 1), ('bridge', 1), ('bits', 1), ('andpieces', 1), ('audie', 1), ('murphy', 1), ('roam', 1), ('41', 1), ('month', 1), ('penned', 1), ('archived', 1), ('insight', 1), ('appreciate', 1), ('titled', 1), ('q', 1), ('photographer', 1), ('designer', 1), ('writer', 1), ('portions', 1), ('demolished', 1), ('planet', 1), ('represents', 1), ('significance', 1), ('wheres', 1), ('urbanarcheolgy', 1), ('racial', 1), ('censor', 1), ('tyrant', 1), ('region', 1), ('celestial', 1), ('sphere', 1), ('ecliptic', 1), ('defense', 1), ('dictatorships', 1), ('killings', 1), ('awful', 1), ('didier', 1), ('#', 1), ('3rd', 1), ('channel', 1), ('improved', 1), ('re-titiled', 1), ('samantha', 1), ('555', 1), ('power-mad', 1), ('pulls', 1), ('november', 1), ('encounter', 1), ('elementary', 1), ('introductory', 1), ('differ', 1), ('appreciation', 1), ('grew', 1), ('historically', 1), ('thrashing', 1), ('differing', 1), ('emerged', 1), ('lightly', 1), ('substantially', 1), ('chip', 1), ('ping-pong', 1), ('widely-read', 1), ('specialised', 1), ('precisely', 1), ('encountered', 1), ('mathematician', 1), ('drawing', 1), ('subsequent', 1), ('pentagram', 1), ('recognised', 1), ('archimedes', 1), ('excluded', 1), ('formally', 1), ('understood', 1), ('mathematicians', 1), ('omit', 1), ('descriptors', 1), ('treatments', 1), ('implicitly', 1), ('introduction', 1), ('luxury', 1), ('conform', 1), ('preconceptions', 1), ('polygons', 1), ('divided', 1), ('self-intersect', 1), ('proviso', 1), ('ideas', 1), ('20:34', 1), ('resubmitted', 1), ('confirmation', 1), ('silliness', 1), ('jun', 1), ('natalya', 1), ('pasichnyk', 1), ('logged-in', 1), ('noun', 1), ('influence', 1), ('correctness', 1), ('johnny', 1), ('leverne', 1), ('gender', 1), ('transgender', 1), ('met', 1), ('foreigners', 1), ('shout', 1), ('mouth', 1), ('4ever', 1), ('butyou', 1), ('benned', 1), ('wps', 1), ('swearing', 1), ('struggling', 1), ('existence', 1), ('discriminates', 1), ('discriminate', 1), ('fringe', 1), ('flavours', 1), ('separation', 1), ('church', 1), ('strictly', 1), ('tautology', 1), ('elucidate', 1), ('𒁳', 1), ('ended', 1), ('archive', 1), ('conversations', 1), ('wen', 1), ('combination', 1), ('responses', 1), ('communicating', 1), ('anywhere', 1), ('fulfilled', 1), ('irregularities', 1), ('normal', 1), ('thoughtless', 1), ('decission', 1), ('frankly', 1), ('realized', 1), ('enormous', 1), ('despotically', 1), ('unjustified', 1), ('grade', 1), ('stil', 1), ('carry', 1), ('constructively', 1), ('sounds', 1), ('gang', 1), ('pedestrian', 1), ('wise', 1), ('advices', 1), ('positive', 1), ('fulfilling', 1), ('carried', 1), ('repressive', 1), ('measures', 1), ('3rr', 1), ('consecutive', 1), ('intervening', 1), ('counts', 1), ('sagaiousphil', 1), ('pillockbrain', 1), ('elast', 1), ('sagacious', 1), ('intellect', 1), ('hates', 1), ('superiors', 1), ('injury', 1), ('legobatman', 1), ('3609', 1), ('icekid', 1), ('1994', 1), ('voice', 1), ('throat', 1), ('71.246', 1), ('51.122', 1), ('computers', 1), ('ai', 1), ('overlap', 1), ('piotrus', 1), ('blow', 1), ('12.176', 1), ('20.2', 1), ('sundos', 1), ('mohammed', 1), ('ibrahim', 1), ('al-mansoury', 1), ('sudanese', 1), ('ksa', 1), ('riadh', 1), ('2002', 1), ('khartoum', 1), ('garden', 1), ('collage', 1), ('department', 1), ('training', 1), ('violate', 1), ('regulations', 1), ('userpage', 1), ('paraded', 1), ('streets', 1), ('european', 1), ('popular', 1), (\"romania's\", 1), ('70', 1), ('romanian', 1), ('22:49', 1), ('shits', 1), ('imma', 1), ('rcaist', 1), ('bitches', 1), ('ammunition', 1), ('licenced', 1), ('m777', 1), ('origon', 1), ('titanium', 1), ('barell', 1), ('assembled', 1), ('britian', 1), ('imperial', 1), ('sized', 1), ('guns', 1), ('metric', 1), ('dimensions', 1), ('9.2', 1), ('l5', 1), ('howitzers', 1), ('reserve', 1), ('stopped', 1), ('1990', 1), ('mortar', 1), ('motar', 1), ('supprised', 1), ('service', 1), ('1960', 1), ('101.171', 1), ('170.142', 1), ('formats', 1), ('jersey', 1), ('nineteenth', 1), ('twentieth', 1), ('19th', 1), ('20th', 1), ('allows', 1), ('requiring', 1), ('legislative', 1), ('tea', 1), ('21st', 1), ('internally', 1), ('disingenuous', 1), ('raise', 1), ('aggravating', 1), ('unnecessary', 1), ('audacity', 1), ('insist', 1), ('baseless', 1), ('proverb', 1), ('truism', 1), ('self-evident', 1), ('reminder', 1), ('literary', 1), ('device', 1), ('counterexamples', 1), ('pee', 1), ('toot', 1), ('fart', 1), ('gas', 1), ('diareah', 1), ('zoey', 1), ('stinks', 1), ('marry', 1), ('prohibited', 1), ('whomever', 1), ('out-of-print', 1), ('releases', 1), ('spurious', 1), ('recycled', 1), ('sadly', 1), ('passes', 1), ('begs', 1), ('tuppence', 1), ('advantage', 1), ('commercial', 1), ('egotistical', 1), ('transgressed', 1), (\"wiki's\", 1), ('arcane', 1), ('attribution', 1), ('coincidence', 1), ('marmite', 1), ('argumentative', 1), ('straight', 1), ('drafts', 1), ('yellow', 1), ('sticker', 1), ('rid', 1), ('harassing', 1), (\"ip's\", 1), ('chelsea', 1), ('manning', 1), ('clearer', 1), ('unreferenced', 1), ('unreviewed', 1), ('childs', 1), ('websites', 1), ('pro', 1), ('suffer', 1), ('horribly', 1), ('pretoria', 1), ('runaway', 1), ('assistance', 1), ('gotten', 1), (';-)', 1), ('half-considered', 1), ('lo', 1), ('aroenel', 1), (\"here's\", 1), ('forth', 1), ('feminist', 1), ('synth', 1), ('slaves', 1), ('promotes', 1), ('promoting', 1), ('fenian', 1), ('wrist', 1), ('wip', 1), ('present', 1), ('participant', 1), ('under-referenced', 1), ('gamut', 1), ('hexachord', 1), ('concepts', 1), ('lacks', 1), ('grove', 1), ('inadequate', 1), ('fuller', 1), ('bibliographic', 1), ('details', 1), ('attend', 1), ('tied', 1), ('noetica', 1), ('♬', 1), ('♩', 1), ('caps', 1), ('demon', 1), ('capitalized', 1), ('inconstructive', 1), ('jvstvs', 1), ('hmmm', 1), ('two-way', 1), ('dab', 1), ('uncapitalised', 1), ('raising', 1), ('allof', 1), ('battleis', 1), ('campaignbox', 1), ('connected', 1), ('dis', 1), ('revaling', 1), ('68.205', 1), ('182.184', 1), ('creeping', 1), ('thankyou', 1), ('http://www.enotes.com/psychoanalysis-encyclopedia/unpleasure', 1), ('lots', 1), ('suspicious', 1), ('hoax.cierekim', 1), ('ddduu', 1), ('eastern', 1), ('zone', 1), ('callanecc', 1), ('potto', 1), ('hole', 1), ('harbor', 1), ('feelings', 1), ('guilty', 1), ('promise', 1), ('trolls', 1), ('hugo', 1), ('chavez', 1), ('nastiness', 1), ('possessive', 1), ('revisions', 1), ('proceeded', 1), ('foul', 1), ('unwanted', 1), ('unsolicited', 1), ('objected', 1), ('profanity', 1), ('respectfully', 1), ('exercise', 1), ('one-sided', 1), ('forgetting', 1), ('melbourne', 1), ('thereby', 1), ('validating', 1), ('quick', 1), ('geeks', 1), ('ditch', 1), ('processes', 1), ('shes', 1), ('impossible', 1), ('nationality', 1), ('volunteer', 1), ('useless', 1), ('propagandas', 1), ('http://en.wikipedia.org/w/index.php?title=post-it_note=82219445=82217351', 1), ('<-', 1), ('inform', 1), ('shyamalan', 1), ('interfere', 1), ('ideology', 1), ('ich', 1), ('beuge', 1), ('zu', 1), ('ihnen', 1), ('meinen', 1), ('fuhrer', 1), ('formating', 1), ('1777mev', 1), ('c2', 1), ('orders', 1), ('magnitude', 1), ('90.179', 1), ('235.249', 1), ('unthinking', 1), ('urchin', 1), ('standing', 1), ('ovation', 1), ('tweaks', 1), ('beforehand', 1), ('strikes', 1), ('online', 1), ('retitling', 1), ('arguing', 1), ('supplant', 1), ('politic', 1), ('reposting', 1), ('tbhotch', 1), ('jobless', 1), ('teachers', 1), ('tossing', 1), ('reality', 1), ('flame', 1), ('demographics', 1), ('pissing', 1), ('save', 1), ('throwing', 1), ('vpn', 1), ('spoof', 1), ('linking', 1), ('gladly', 1), ('roughly', 1), ('75', 1), ('fridgemagnet', 1), ('responsibility', 1), ('genius', 1), ('index', 1), ('confirm', 1), ('cepos', 1), (\"word's\", 1), ('disconnected', 1), ('etymology', 1), ('managers', 1), ('follows', 1), ('fms', 1), ('unorthodox', 1), ('ewwwwwww', 1), ('dummy', 1), ('nich', 1), ('attempting', 1), ('espouse', 1), ('heavens', 1), ('hard-working', 1), ('totally', 1), ('accusation', 1), ('quoted', 1), ('long-long', 1), ('zionism', 1), ('critique', 1), ('corbett', 1), (\"molly's\", 1), ('clarification', 1), ('twenty-four', 1), ('resubmit', 1), ('subst', 1), ('submit', 1), ('pdf', 1), ('guide', 1), ('surat', 1), ('thani', 1), ('ie', 1), ('pertains', 1), ('silk', 1), ('weavers', 1), ('bunga', 1), ('mas', 1), ('suzerainty', 1), ('discusses', 1), ('shameful', 1), ('advert', 1), ('joining', 1), ('wiktionary', 1), ('revival', 1), ('mode', 1), ('wikt', 1), ('ríomhleathanach', 1), ('❤', 1), ('groupd', 1), ('bullies', 1), ('chasing', 1), ('iremember', 1), ('gangsterism', 1), ('ov', 1), ('fabricating', 1), ('october', 1), ('unable', 1), ('argumentation', 1), ('adopted', 1), ('arrogant', 1), ('luckily', 1), ('waste', 1), ('strange', 1), ('previously', 1), ('enganged', 1), ('despotic', 1), ('malignant', 1), ('shithead', 1), ('arseface', 1), ('mutherlicker', 1), ('137.240', 1), ('136.80', 1), ('forst', 1), ('corrupt', 1), ('thiefs', 1), ('san', 1), (';)', 1), ('kobe', 1), ('bryant', 1), ('\\u200e', 1), ('jason', 1), ('kidd', 1), ('mena', 1), ('bullying', 1), ('cam', 1), ('48', 1), ('eding', 1), ('removes', 1), ('indiviate', 1), ('bulyingf', 1), ('enforcer', 1), ('mckenna', 1), ('leary', 1), ('gordon', 1), ('wasson', 1), ('shamanic', 1), ('ayuhasca', 1), ('iboga', 1), ('shamnic', 1), ('drumming', 1), ('dancing', 1), ('protestent', 1), ('shaker', 1), ('whirling', 1), ('dervishes', 1), ('phenomena', 1), ('meaningfull', 1), ('symptomatic', 1), ('diagnosis', 1), ('aproach', 1), ('agnostic', 1), ('aproaches', 1), ('validity', 1), ('curios', 1), ('elsewhere', 1), ('chosen', 1), ('mighht', 1), ('sympathetique', 1), ('childish', 1), ('presently', 1), ('stays', 1), ('draft', 1), ('trashed', 1), ('clar', 1), ('#irsentience', 1), ('removasl', 1), ('arrived', 1), ('operation', 1), ('grammer', 1), ('punctuation', 1), ('editting', 1), ('stlye', 1), ('sum', 1), ('thoughtlessly', 1), ('youve', 1), ('redirected', 1), ('diligently', 1), ('additional', 1), ('religios', 1), ('anthropological', 1), ('socialogical', 1), ('medical', 1), ('chemistry', 1), ('botany', 1), ('views', 1), ('hurdles', 1), ('hoops', 1), ('honour', 1), ('evolved', 1), ('...\\n...', 1), ('wars', 1), ('stupidly', 1), ('brawl', 1), ('clairsentient', 1), ('wasnt', 1), ('decades', 1), ('articulate', 1), ('rational', 1), ('vast', 1), ('69.233', 1), ('92.38', 1), ('turd', 1), ('toilet', 1), ('immediently', 1), ('pedo', 1), (\"eppy's\", 1), ('tradition', 1), ('header', 1), ('19:17', 1), ('intro', 1), ('headings', 1), ('sheeple', 1), ('meant', 1), ('affiliations', 1), ('rex', 1), ('euro', 1), ('massacred', 1), ('civilians', 1), ('specifies', 1), ('constitutes', 1), ('boilerplate', 1), ('templates', 1), ('insure', 1), ('compliance', 1), ('blank', 1), ('specified', 1), ('ndb', 1), ('bastards', 1), ('currently', 1), ('laughing', 1), ('stock', 1), ('punchline', 1), ('joke', 1), ('facilitates', 1), ('uninterested', 1), ('potential', 1), (\"wouldn't\", 1), ('harms', 1), ('substantial', 1), ('insidious', 1), ('virus', 1), ('genuine', 1), ('swear-filled', 1), ('diatribe', 1), ('antagonizing', 1), ('genuinely', 1), ('begged', 1), ('taunted', 1), ('harm', 1), ('cf', 1), ('lamina', 1), ('stacked', 1), ('plates', 1), ('gills', 1), ('fish', 1), ('mushrooms', 1), ('comb-like', 1), ('edge', 1), (\"duck's\", 1), ('bill', 1), ('referred', 1), ('pectines', 1), ('singular', 1), ('pecten', 1), ('murdered', 1), ('improves', 1), ('consolidating', 1), ('fundamentally', 1), ('descriptions', 1), ('retained', 1), ('puppets', 1), ('demonstrated', 1), ('cannoot', 1), ('face', 1), ('lift', 1), ('slowly', 1), ('identified', 1), (\"washington's\", 1), ('39', 1), ('counties', 1), ('mountain', 1), ('tons', 1), ('newspaper', 1), ('misspellings', 1), ('bighorn', 1), ('sheep', 1), ('businesses', 1), ('transformer', 1), ('ship', 1), ('isolate', 1), ('besides', 1), ('lewis', 1), ('county', 1), ('trip', 1), ('reports', 1), ('aqu', 1), ('01rius', 1), ('\\x95', 1), ('cheeselor', 1), ('wdefcon', 1), ('anglesey', 1), ('extra', 1), ('refs', 1), ('photographs', 1), ('infobox', 1), ('renamed', 1), ('baked', 1), ('cake', 1), ('icing', 1), ('fingers', 1), ('crossed', 1), ('hd', 1), ('totd', 1), ('tip', 1), ('active', 1), (\"admin's\", 1), ('noticeboard', 1), ('miscellanious', 1), ('village', 1), ('pump', 1), ('places', 1), ('faster', 1), ('15:59', 1), ('revisited', 1), ('fix', 1), ('fixing', 1), ('missed', 1), (\"it'll\", 1), ('renominated', 1), ('offered', 1), ('entitled', 1), ('reward', 1), ('ais', 1), ('523', 1), ('importing', 1), ('scripts', 1), ('monobook.js', 1), ('bypassing', 1), ('cache', 1), ('12:57', 1), ('fairly', 1), ('impressive', 1), ('snak', 1), ('retrn', 1), ('blck', 1), ('alllllllllllllllllllllllllllllll', 1), ('fukerssssssssssssssssssssssssssssssssssssssssssssssssssssssssssssssssssssssssssssssssssssssssssssssssssssss', 1), ('unrepentant', 1), ('nominator', 1), ('cease', 1), ('nominations', 1), ('helen', 1), ('krauze', 1), ('snottywong', 1), ('percentage', 1), ('votes', 1), ('results', 1), (':d', 1), ('gg', 1), ('nominates', 1), ('known', 1), ('luck', 1), ('moreover', 1), ('indication', 1), ('underlying', 1), ('abit', 1), ('rollback', 1), ('button', 1), ('twinkle', 1), ('vandal-fighting', 1), ('12:20', 1), ('er', 1), ('empathize', 1), ('likewise', 1), ('directed', 1), ('tossed', 1), ('breeze', 1), ('2014', 1), ('apologies', 1), ('responding', 1), ('restored', 1), ('incarnation', 1), ('contained', 1), ('infrignements', 1), ('userspace', 1), ('re-created', 1), ('restoring', 1), ('grammatical', 1), ('needing', 1), ('moving', 1), ('pseudonym', 1), ('09:38', 1), ('suppression', 1), ('houses', 1), ('1539', 1), ('insistence', 1), ('eccentric', 1), ('emphasized', 1), ('assertions', 1), ('engaging', 1), ('activities', 1), ('persistence', 1), ('organization', 1), ('overwhelm', 1), ('generate', 1), ('widespread', 1), ('inaccurate', 1), ('libelous', 1), ('passages', 1), ('viewpoint', 1), ('continually', 1), ('furries', 1), ('improvement', 1), ('longstanding', 1), ('redirects', 1), ('orangemarlin', 1), ('disgusting', 1), ('cities', 1), ('insists', 1), ('keeping', 1), ('boston', 1), ('center', 1), ('bastrards', 1), ('neogotiate', 1), ('favour', 1), ('javits', 1), ('brad', 1), ('thor', 1), ('uncommon', 1), ('recipes', 1), ('poisons', 1), ('bio-warfare', 1), ('chemical', 1), ('warfare', 1), ('gleaned', 1), ('98.214', 1), ('81.82', 1), ('700', 1), ('shushing', 1), ('cow', 1), ('dismiss', 1), ('uppercase', 1), ('letter', 1), ('imbecile', 1), ('specialist', 1), ('specifically', 1), ('sneering', 1), ('transphobic', 1), ('sarcasm', 1), ('humour', 1), ('febuary', 1), ('#084080', 1), ('#000000', 1), ('rangeetsen', 1), ('clicking', 1), ('fill', 1), ('facilitate', 1), ('verifiability', 1), ('three-revert', 1), ('copyrights', 1), ('cellpadding', 1), ('cellspacing', 1), ('#000', 1), ('resolving', 1), ('disputes', 1), ('etiquette', 1), ('mangojuice', 1), ('coats', 1), ('absurd', 1), ('subsitute', 1), ('bug', 1), ('systematic', 1), ('territroy', 1), ('moroccan', 1), ('administration', 1), ('administrates', 1), ('polisario', 1), ('exile', 1), ('wanting', 1), ('democratic', 1), ('fervent', 1), ('militant', 1), ('subtitute', 1), ('ín', 1), ('editwarring', 1), ('differently', 1), ('costs', 1), ('indefinite', 1), ('exhausting', 1), ('regards', 1), ('neutrally', 1), ('coloured', 1), ('minded', 1), ('sto', 1), ('th', 1), ('eoriginal', 1), ('noble', 1), ('aims', 1), ('adrift', 1), ('pettyness', 1), ('correction', 1), ('godliness', 1), ('frequent', 1), ('ad', 1), ('stripmalls', 1), ('ingestion', 1), ('burgers', 1), ('fries', 1), ('n', 1), ('inconsitency', 1), ('knickers', 1), ('erase', 1), ('fascism', 1), ('fitting', 1), (\"hitler's\", 1), ('germany', 1), (\"stalin's\", 1), ('wide', 1), ('nevertheless', 1), ('subtract', 1), ('modify', 1), ('conviction', 1), ('eductaion', 1), ('progressive', 1), ('regressive', 1), ('wikipediapoliciy', 1), ('harrasment', 1), ('reasonable', 1), ('observer', 1), ('adversely', 1), ('affecting', 1), ('intimidating', 1), ('unpleasant', 1), ('discourage', 1), ('implied', 1), ('continued', 1), ('showed', 1), ('unflattering', 1), ('202.124', 1), ('135.206', 1), ('http://www.wwfindia.org/about_wwf/what_we_do/freshwater_wetlands/our_work/ramsar_sites/harike_wetlands_.cfm', 1), ('http://www.birding.in/birdingsites/harike_lake.htm', 1), ('http://www.gisdevelopment.net/aars/acrs/1997/ts7/ts7008.asp', 1), ('brilliant', 1), ('http://www.punjabheritage.org/architectural-heritage/local-enthusiasm-but-official-neglect-for-anglo-sikh-war-monuments2704.html', 1), ('infoboxes', 1), ('consistency', 1), (\"religion's\", 1), ('impression', 1), ('irreligion', 1), ('rejection', 1), (\"anupam's\", 1), ('discourse', 1), ('warrant', 1), ('remaining', 1), ('thermonuclear', 1), ('nuclear', 1), ('greater', 1), ('graceful', 1), ('slick', 1), ('ungraceful', 1), ('86.131', 1), ('154.230', 1), ('mexia', 1), ('prounounced', 1), ('mejilla', 1), ('cheek', 1), ('þ', 1), ('¡', 1), ('æ', 1), ('assed', 1), ('suckin', 1), ('drug', 1), ('addicted', 1), ('sniffin', 1), ('megalomaniacs', 1), ('bent', 1), ('stuffed', 1), ('crack', 1), ('losers', 1), ('fewer', 1), ('od', 1)]\n",
            "example features: [('!', 703), ('12/13', 1), ('3', 6), (']', 11), ('adolf', 1), ('altered', 2), ('arcane', 1), ('automatically', 6), ('benefit', 1), ('bottom', 2), ('cambefort', 1), ('chemistry', 1), ('comb-like', 1), ('consume', 1), ('credited', 1), ('decided', 3), ('diatribe', 1), ('doing', 19), ('education', 3), ('essay', 1), ('factual', 1), ('fire', 3), ('from', 97), ('go', 34), ('hands', 1), ('hinders', 1), ('identical', 1), ('infobox', 1), ('israelis', 1), ('kind', 15), (\"let's\", 5), ('lost', 7), ('mckenna', 1), ('moderation', 1), ('naturally', 1), ('noticeable', 1), ('opposing', 1), ('pdf', 1), ('plant', 1), ('pretoria', 1), ('punctuation', 1), ('rebels', 1), ('repetative', 1), ('riadh', 1), ('schulz', 3), ('shes', 1), ('slit', 1), ('spoof', 1), ('stupid', 14), ('t', 9), ('theoretical', 1), ('topic', 11), ('uglyness', 2), ('userspace', 1), ('wanted', 6), ('wikieditor', 1), ('year', 6), ('ீ', 1)]\n"
          ],
          "name": "stdout"
        }
      ]
    },
    {
      "cell_type": "code",
      "metadata": {
        "id": "Zmn4QBGQfKHq",
        "colab_type": "code",
        "colab": {
          "base_uri": "https://localhost:8080/",
          "height": 34
        },
        "outputId": "4ec4acc6-b5b0-40ee-bdda-dc83a676448b"
      },
      "source": [
        "bow_vocabulary[1]"
      ],
      "execution_count": null,
      "outputs": [
        {
          "output_type": "execute_result",
          "data": {
            "text/plain": [
              "(',', 1389)"
            ]
          },
          "metadata": {
            "tags": []
          },
          "execution_count": 31
        }
      ]
    },
    {
      "cell_type": "code",
      "metadata": {
        "id": "kG-A1Iu4dMzK",
        "colab_type": "code",
        "colab": {}
      },
      "source": [
        "l = []\n",
        "for i in bow_vocabulary:\n",
        "    l.append(i[0])\n",
        "    \n",
        "bow_vocabulary = l"
      ],
      "execution_count": null,
      "outputs": []
    },
    {
      "cell_type": "code",
      "metadata": {
        "id": "XG-ig-y37rDg",
        "colab_type": "code",
        "colab": {}
      },
      "source": [
        "def text_to_bow(text):\n",
        "    \n",
        "    result_vector = np.zeros(k)\n",
        "    for j, i in enumerate(bow_vocabulary):\n",
        "        if i in text.split(\" \"):\n",
        "            result_vector[j] = text.split(' ').count(i)\n",
        "        else:\n",
        "            result_vector[j] = 0\n",
        "\n",
        "    return np.array(result_vector, 'float32')"
      ],
      "execution_count": null,
      "outputs": []
    },
    {
      "cell_type": "code",
      "metadata": {
        "id": "WDUDcBLklJw-",
        "colab_type": "code",
        "colab": {}
      },
      "source": [
        "X_train_bow = np.stack(list(map(text_to_bow, texts_train)))\n",
        "X_test_bow = np.stack(list(map(text_to_bow, texts_test)))"
      ],
      "execution_count": null,
      "outputs": []
    },
    {
      "cell_type": "code",
      "metadata": {
        "id": "kCHCwU18hGQq",
        "colab_type": "code",
        "colab": {
          "base_uri": "https://localhost:8080/",
          "height": 51
        },
        "outputId": "eaed043d-67a7-4686-fb5d-a0024aaf44df"
      },
      "source": [
        "print(X_train_bow[5:10].sum(-1))\n",
        "print(np.array([len(s.split()) for s in  texts_train[5:10]]))"
      ],
      "execution_count": null,
      "outputs": [
        {
          "output_type": "stream",
          "text": [
            "[  9. 202.  15.  51.  41.]\n",
            "[  9 202  15  51  41]\n"
          ],
          "name": "stdout"
        }
      ]
    },
    {
      "cell_type": "code",
      "metadata": {
        "id": "FQceGCXRlJxI",
        "colab_type": "code",
        "colab": {}
      },
      "source": [
        "# Small check that everything is done properly\n",
        "k_max = len(set(' '.join(texts_train).split()))\n",
        "assert X_train_bow.shape == (len(texts_train), min(k, k_max))\n",
        "assert X_test_bow.shape == (len(texts_test), min(k, k_max))\n",
        "assert np.all(X_train_bow[5:10].sum(-1) == np.array([len(s.split()) for s in  texts_train[5:10]]))\n",
        "assert len(bow_vocabulary) <= min(k, k_max)\n",
        "assert X_train_bow[6, bow_vocabulary.index('.')] == texts_train[6].split().count('.')"
      ],
      "execution_count": null,
      "outputs": []
    },
    {
      "cell_type": "markdown",
      "metadata": {
        "id": "65Ls1fytlJxX",
        "colab_type": "text"
      },
      "source": [
        "Machine learning stuff: fit, predict, evaluate. You know the drill."
      ]
    },
    {
      "cell_type": "code",
      "metadata": {
        "id": "VQdhK7_clJxd",
        "colab_type": "code",
        "colab": {
          "base_uri": "https://localhost:8080/",
          "height": 71
        },
        "outputId": "4988102c-945f-4606-b8b9-3eeb4a49f007"
      },
      "source": [
        "from sklearn.linear_model import LogisticRegression\n",
        "bow_model = LogisticRegression().fit(X_train_bow, y_train)"
      ],
      "execution_count": null,
      "outputs": [
        {
          "output_type": "stream",
          "text": [
            "/usr/local/lib/python3.6/dist-packages/sklearn/linear_model/logistic.py:432: FutureWarning: Default solver will be changed to 'lbfgs' in 0.22. Specify a solver to silence this warning.\n",
            "  FutureWarning)\n"
          ],
          "name": "stderr"
        }
      ]
    },
    {
      "cell_type": "code",
      "metadata": {
        "id": "Ldvsxxd3lJxt",
        "colab_type": "code",
        "colab": {
          "base_uri": "https://localhost:8080/",
          "height": 265
        },
        "outputId": "3fb9113e-373c-42d6-b214-92a5786f69ff"
      },
      "source": [
        "from sklearn.metrics import roc_auc_score, roc_curve\n",
        "\n",
        "for name, X, y, model in [\n",
        "    ('train', X_train_bow, y_train, bow_model),\n",
        "    ('test ', X_test_bow, y_test, bow_model)\n",
        "]:\n",
        "    proba = model.predict_proba(X)[:, 1]\n",
        "    auc = roc_auc_score(y, proba)\n",
        "    plt.plot(*roc_curve(y, proba)[:2], label='%s AUC=%.4f' % (name, auc))\n",
        "\n",
        "plt.plot([0, 1], [0, 1], '--', color='black',)\n",
        "plt.legend(fontsize='large')\n",
        "plt.grid()"
      ],
      "execution_count": null,
      "outputs": [
        {
          "output_type": "display_data",
          "data": {
            "image/png": "[encoded data removed]",
            "text/plain": [
              "<Figure size 432x288 with 1 Axes>"
            ]
          },
          "metadata": {
            "tags": []
          }
        }
      ]
    },
    {
      "cell_type": "markdown",
      "metadata": {
        "id": "km5yhh6vlJx5",
        "colab_type": "text"
      },
      "source": [
        "Try to vary the number of tokens `k` and check how the model performance changes. Show it on a plot."
      ]
    },
    {
      "cell_type": "code",
      "metadata": {
        "id": "RVWJjZJOlJx9",
        "colab_type": "code",
        "colab": {
          "base_uri": "https://localhost:8080/",
          "height": 615
        },
        "outputId": "2db211f2-b2c5-47cf-a1de-a0c786536b7a"
      },
      "source": [
        "# Your beautiful code here\n",
        "from sklearn.metrics import f1_score, accuracy_score\n",
        "\n",
        "score = []\n",
        "for param in range(1000, 6000, 300):\n",
        "    #same code for k in range(1000, 6000)\n",
        "    k = min(param, len(set(' '.join(texts_train).split())))\n",
        "    bow_vocabulary_reduced = bow_vocabulary[:k]\n",
        "\n",
        "    def text_to_bow(text):\n",
        "        result_vector = np.zeros(k)\n",
        "        for j, i in enumerate(bow_vocabulary_reduced):\n",
        "            if i in text.split(\" \"):\n",
        "                result_vector[j] = text.split(' ').count(i)\n",
        "            else:\n",
        "                result_vector[j] = 0\n",
        "        return np.array(result_vector, 'float32')\n",
        "\n",
        "    X_train_bow = np.stack(list(map(text_to_bow, texts_train)))\n",
        "    X_test_bow = np.stack(list(map(text_to_bow, texts_test)))\n",
        "    bow_model = LogisticRegression().fit(X_train_bow, y_train)\n",
        "    proba = bow_model.predict_proba(X_test_bow)[:, 1]\n",
        "    auc = roc_auc_score(y_test, proba)\n",
        "    score.append(auc)\n",
        "\n"
      ],
      "execution_count": null,
      "outputs": [
        {
          "output_type": "stream",
          "text": [
            "/usr/local/lib/python3.6/dist-packages/sklearn/linear_model/logistic.py:432: FutureWarning: Default solver will be changed to 'lbfgs' in 0.22. Specify a solver to silence this warning.\n",
            "  FutureWarning)\n",
            "/usr/local/lib/python3.6/dist-packages/sklearn/linear_model/logistic.py:432: FutureWarning: Default solver will be changed to 'lbfgs' in 0.22. Specify a solver to silence this warning.\n",
            "  FutureWarning)\n",
            "/usr/local/lib/python3.6/dist-packages/sklearn/linear_model/logistic.py:432: FutureWarning: Default solver will be changed to 'lbfgs' in 0.22. Specify a solver to silence this warning.\n",
            "  FutureWarning)\n",
            "/usr/local/lib/python3.6/dist-packages/sklearn/linear_model/logistic.py:432: FutureWarning: Default solver will be changed to 'lbfgs' in 0.22. Specify a solver to silence this warning.\n",
            "  FutureWarning)\n",
            "/usr/local/lib/python3.6/dist-packages/sklearn/linear_model/logistic.py:432: FutureWarning: Default solver will be changed to 'lbfgs' in 0.22. Specify a solver to silence this warning.\n",
            "  FutureWarning)\n",
            "/usr/local/lib/python3.6/dist-packages/sklearn/linear_model/logistic.py:432: FutureWarning: Default solver will be changed to 'lbfgs' in 0.22. Specify a solver to silence this warning.\n",
            "  FutureWarning)\n",
            "/usr/local/lib/python3.6/dist-packages/sklearn/linear_model/logistic.py:432: FutureWarning: Default solver will be changed to 'lbfgs' in 0.22. Specify a solver to silence this warning.\n",
            "  FutureWarning)\n",
            "/usr/local/lib/python3.6/dist-packages/sklearn/linear_model/logistic.py:432: FutureWarning: Default solver will be changed to 'lbfgs' in 0.22. Specify a solver to silence this warning.\n",
            "  FutureWarning)\n",
            "/usr/local/lib/python3.6/dist-packages/sklearn/linear_model/logistic.py:432: FutureWarning: Default solver will be changed to 'lbfgs' in 0.22. Specify a solver to silence this warning.\n",
            "  FutureWarning)\n",
            "/usr/local/lib/python3.6/dist-packages/sklearn/linear_model/logistic.py:432: FutureWarning: Default solver will be changed to 'lbfgs' in 0.22. Specify a solver to silence this warning.\n",
            "  FutureWarning)\n",
            "/usr/local/lib/python3.6/dist-packages/sklearn/linear_model/logistic.py:432: FutureWarning: Default solver will be changed to 'lbfgs' in 0.22. Specify a solver to silence this warning.\n",
            "  FutureWarning)\n",
            "/usr/local/lib/python3.6/dist-packages/sklearn/linear_model/logistic.py:432: FutureWarning: Default solver will be changed to 'lbfgs' in 0.22. Specify a solver to silence this warning.\n",
            "  FutureWarning)\n",
            "/usr/local/lib/python3.6/dist-packages/sklearn/linear_model/logistic.py:432: FutureWarning: Default solver will be changed to 'lbfgs' in 0.22. Specify a solver to silence this warning.\n",
            "  FutureWarning)\n",
            "/usr/local/lib/python3.6/dist-packages/sklearn/linear_model/logistic.py:432: FutureWarning: Default solver will be changed to 'lbfgs' in 0.22. Specify a solver to silence this warning.\n",
            "  FutureWarning)\n",
            "/usr/local/lib/python3.6/dist-packages/sklearn/linear_model/logistic.py:432: FutureWarning: Default solver will be changed to 'lbfgs' in 0.22. Specify a solver to silence this warning.\n",
            "  FutureWarning)\n",
            "/usr/local/lib/python3.6/dist-packages/sklearn/linear_model/logistic.py:432: FutureWarning: Default solver will be changed to 'lbfgs' in 0.22. Specify a solver to silence this warning.\n",
            "  FutureWarning)\n",
            "/usr/local/lib/python3.6/dist-packages/sklearn/linear_model/logistic.py:432: FutureWarning: Default solver will be changed to 'lbfgs' in 0.22. Specify a solver to silence this warning.\n",
            "  FutureWarning)\n"
          ],
          "name": "stderr"
        }
      ]
    },
    {
      "cell_type": "code",
      "metadata": {
        "id": "4hVzxp0lavvI",
        "colab_type": "code",
        "colab": {
          "base_uri": "https://localhost:8080/",
          "height": 34
        },
        "outputId": "e6d6daa0-22aa-49b9-b50d-ff0387ee1f0c"
      },
      "source": [
        "print(\"accuracy lr %f\" % accuracy_score(y_test, proba.round()))"
      ],
      "execution_count": null,
      "outputs": [
        {
          "output_type": "stream",
          "text": [
            "accuracy lr 0.762000\n"
          ],
          "name": "stdout"
        }
      ]
    },
    {
      "cell_type": "code",
      "metadata": {
        "id": "hbZKngnwKArC",
        "colab_type": "code",
        "colab": {}
      },
      "source": [
        ""
      ],
      "execution_count": null,
      "outputs": []
    },
    {
      "cell_type": "markdown",
      "metadata": {
        "id": "ntuT1qY8lJyo",
        "colab_type": "text"
      },
      "source": [
        "#### Task: implement TF-IDF features\n",
        "\n",
        "Not all words are equally useful. One can prioritize rare words and downscale words like \"and\"/\"or\" by using __tf-idf features__. This abbreviation stands for __text frequency/inverse document frequence__ and means exactly that:\n",
        "\n",
        "$$ feature_i = { Count(word_i \\in x) \\times { log {N \\over Count(word_i \\in D) + \\alpha} }}, $$\n",
        "\n",
        "\n",
        "where x is a single text, D is your dataset (a collection of texts), N is a total number of documents and $\\alpha$ is a smoothing hyperparameter (typically 1). \n",
        "And $Count(word_i \\in D)$ is the number of documents where $word_i$ appears.\n",
        "\n",
        "It may also be a good idea to normalize each data sample after computing tf-idf features.\n",
        "\n",
        "__Your task:__ implement tf-idf features, train a model and evaluate ROC curve. Compare it with basic BagOfWords model from above.\n",
        "\n",
        "__Please don't use sklearn/nltk builtin tf-idf vectorizers in your solution :)__ You can still use 'em for debugging though."
      ]
    },
    {
      "cell_type": "markdown",
      "metadata": {
        "id": "KZYFm8IvlJyv",
        "colab_type": "text"
      },
      "source": [
        "Blog post about implementing the TF-IDF features from scratch: https://triton.ml/blog/tf-idf-from-scratch"
      ]
    },
    {
      "cell_type": "code",
      "metadata": {
        "id": "-J5LQTLLlJyz",
        "colab_type": "code",
        "colab": {}
      },
      "source": [
        "# Your beautiful code here\n",
        "wordfreq = {}\n",
        "sort = {}\n",
        "\n",
        "for i in texts_train:\n",
        "    #i = re.sub('[^A-Za-z\\s]', '', i).lower()\n",
        "    #tokens = nltk.word_tokenize(i)\n",
        "    tokens = i.split(\" \")\n",
        "    for token in tokens:\n",
        "        if token not in wordfreq.keys():\n",
        "            wordfreq[token] = 1\n",
        "        else:\n",
        "            wordfreq[token] += 1\n",
        "\n",
        "\n",
        "\n",
        "k = min(10000, len(set(' '.join(texts_train).split())))\n",
        "\n",
        "bow_vocabulary = Counter(wordfreq).most_common(k)"
      ],
      "execution_count": null,
      "outputs": []
    }
  ]
}